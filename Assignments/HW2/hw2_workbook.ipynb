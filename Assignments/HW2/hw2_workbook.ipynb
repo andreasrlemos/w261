{
 "cells": [
  {
   "cell_type": "markdown",
   "metadata": {},
   "source": [
    "# HW 2 - Naive Bayes in Hadoop MR\n",
    "__`MIDS w261: Machine Learning at Scale | UC Berkeley School of Information | Fall 2018`__\n",
    "\n",
    "In the live sessions for week 2 and week 3 you got some practice designing and debugging Hadoop Streaming jobs. In this homework we'll use Hadoop MapReduce to implement your first parallelized machine learning algorithm: Naive Bayes. As you develop your implementation you'll test it on a small dataset that matches the 'Chinese Example' in the _Manning, Raghavan and Shutze_ reading for Week 2. For the main task in this assignment you'll be working with a small subset of the Enron Spam/Ham Corpus. By the end of this assignment you should be able to:\n",
    "* __... describe__ the Naive Bayes algorithm including both training and inference.\n",
    "* __... perform__ EDA on a corpus using Hadoop MR.\n",
    "* __... implement__ parallelized Naive Bayes.\n",
    "* __... constrast__ partial, unordered and total order sort and their implementations in Hadoop Streaming.\n",
    "* __... explain__ how smoothing affects the bias and variance of a Multinomial Naive Bayes model.\n",
    "\n",
    "As always, your work will be graded both on the correctness of your output and on the clarity and design of your code. __Please refer to the `README` for homework submission instructions.__ "
   ]
  },
  {
   "cell_type": "markdown",
   "metadata": {},
   "source": [
    "## Notebook Setup\n",
    "Before starting, run the following cells to confirm your setup."
   ]
  },
  {
   "cell_type": "code",
   "execution_count": 1,
   "metadata": {},
   "outputs": [],
   "source": [
    "# imports\n",
    "import numpy as np\n",
    "import matplotlib.pyplot as plt\n",
    "%matplotlib inline\n",
    "%reload_ext autoreload\n",
    "%autoreload 2"
   ]
  },
  {
   "cell_type": "code",
   "execution_count": 2,
   "metadata": {},
   "outputs": [],
   "source": [
    "# global vars (paths) - ADJUST AS NEEDED\n",
    "JAR_FILE = \"/usr/lib/hadoop-mapreduce/hadoop-streaming.jar\"\n",
    "#HDFS_DIR = \"/user/root/HW2/\"\n",
    "HDFS_DIR = \"/user/root/HW2\"\n",
    "HOME_DIR = \"/media/notebooks/sp21-andreaslemos/Assignments/HW2\" # FILL IN HERE eg. /media/notebooks/Assignments/HW2"
   ]
  },
  {
   "cell_type": "code",
   "execution_count": 3,
   "metadata": {},
   "outputs": [],
   "source": [
    "# global vars (paths) - ADJUST AS NEEDED - Adjusted by Andreas\n",
    "#JAR_FILE = \"/usr/lib/hadoop-mapreduce/hadoop-streaming.jar\"\n",
    "#HDFS_DIR = \"/home/ec2-user/sp21-andreaslemos/Assignments/HW2\"\n",
    "#HOME_DIR = \"\" # FILL IN HERE eg. /media/notebooks/Assignments/HW2"
   ]
  },
  {
   "cell_type": "code",
   "execution_count": 4,
   "metadata": {},
   "outputs": [
    {
     "name": "stdout",
     "output_type": "stream",
     "text": [
      "/media/notebooks/sp21-andreaslemos/Assignments/HW2\n"
     ]
    }
   ],
   "source": [
    "### Added by Andreas\n",
    "!pwd"
   ]
  },
  {
   "cell_type": "code",
   "execution_count": 5,
   "metadata": {},
   "outputs": [],
   "source": [
    "# save path for use in Hadoop jobs (-cmdenv PATH={PATH})\n",
    "from os import environ\n",
    "PATH  = environ['PATH']"
   ]
  },
  {
   "cell_type": "code",
   "execution_count": 6,
   "metadata": {},
   "outputs": [],
   "source": [
    "# data path\n",
    "ENRON = \"data/enronemail_1h.txt\""
   ]
  },
  {
   "cell_type": "code",
   "execution_count": 7,
   "metadata": {},
   "outputs": [
    {
     "name": "stdout",
     "output_type": "stream",
     "text": [
      "Found 1 items\n",
      "drwxr-xr-x   - root supergroup          0 2021-01-21 22:08 demo3\n"
     ]
    }
   ],
   "source": [
    "# make the HDFS directory if it doesn't already exist\n",
    "!hdfs dfs -ls \n",
    "!hdfs dfs -mkdir {HDFS_DIR}"
   ]
  },
  {
   "cell_type": "markdown",
   "metadata": {},
   "source": [
    "# Question 1: Hadoop MapReduce Key Takeaways.  \n",
    "\n",
    "This assignment will be the only one in which you use Hadoop Streaming to implement a distributed algorithm. The key reason we continue to teach Hadoop streaming is because of the way it forces the programmer to think carefully about what is happening under the hood when you parallelize a calculation. This question will briefly highlight some of the most important concepts that you need to understand about Hadoop Streaming and MapReduce before we move on to Spark next week.   \n",
    "\n",
    "### Q1 Tasks:\n",
    "\n",
    "* __a) short response:__ What \"programming paradigm\" is Hadoop MapReduce based on? What are the main ideas of this programming paradigm and how does MapReduce exemplify these ideas?\n",
    "\n",
    "* __b) short response:__ What is the Hadoop Shuffle? When does it happen? Why is it potentially costly? Describe one specific thing we can we do to mitigate the cost associated with this stage of our Hadoop Streaming jobs.\n",
    "\n",
    "* __c) short response:__ In Hadoop Streaming why do the input and output record format of a combiner script have to be the same? [__`HINT`__ _what level of combining does the framework guarantee? what is the relationship between the record format your mapper emits and the format your reducer expects to receive?_]\n",
    "\n",
    "* __d) short response:__ To what extent can you control the level of parallelization of your Hadoop Streaming jobs? Please be specific.\n",
    "\n",
    "* __e) short response:__ What change in the kind of computing resources available prompted the creation of parallel computation frameworks like Hadoop? "
   ]
  },
  {
   "cell_type": "markdown",
   "metadata": {},
   "source": [
    "### Q1 Student Answers:\n",
    "\n",
    "> __a)__ Haddop MapReduce is based on the 'functional programming' paradigm. In this paradigm, the output values of a function depend only on the inputs to that function. The key idea being that it is a 'stateless' paradigm, which uses higher-order functions. Programming in thhis paradigm is done in expressions. MapReduce exemplify these ideas in the stateless and higher-order functions such as Map and Reduce.\n",
    "\n",
    "> __b)__ Hadoop Shuffle is the a synchronization process that happens between the Map and Reduce phases. The idea is that the Reduce pahse does not start until all the Mappers are done. And when they are done, the Shuffling step reorganizes the output from the Mapper so they are sorted by key before they are used as input to the Reducer. It is costly becasue of the sorting and network transfer involved in this step.\n",
    "\n",
    "NEED EXAMPLE OF WHAT CAN BE DONE TO REDUCE COST!\n",
    "\n",
    "> __c)__ Type your answer here!  \n",
    "\n",
    "ANSWER THIS\n",
    "\n",
    "> __d)__ You can hint the level of parallelization for the Map phase. However, Hadoop will ultimately decide what the most efficient level is based on the physical layout of the data. On the other hand, for the Reduce phase you can precisely specify the number of reduce tasks. \n",
    "\n",
    "REVIEW  \n",
    "\n",
    "> __e)__ Type your answer here!  \n",
    "\n",
    "COMPUTING IN CLUSTERS???"
   ]
  },
  {
   "cell_type": "markdown",
   "metadata": {},
   "source": [
    "# Question 2: MapReduce Design Patterns.  \n",
    "\n",
    "In the last two live sessions and in your readings from Lin & Dyer you encountered a number of techniques for manipulating the logistics of a MapReduce implementation to ensure that the right information is available at the right time and location. In this question we'll review a few of the key techniques you learned.   \n",
    "\n",
    "### Q2 Tasks:\n",
    "\n",
    "* __a) short response:__ What are counters (in the context of Hadoop Streaming)? How are they useful? What kinds of counters does Hadoop provide for you? How do you create your own custom counter?\n",
    "\n",
    "* __b) short response:__ What are composite keys? How are they useful? How are they related to the idea of custom partitioning?\n",
    "\n",
    "* __c) short response:__ What is the order inversion pattern? What problem does it help solve? How do we implement it? "
   ]
  },
  {
   "cell_type": "markdown",
   "metadata": {},
   "source": [
    "### Q2 Student Answers:\n",
    "\n",
    "> __a)__ Haddop counter provide a means to keep track of progress for a particular MapReduce job. They are useful for tracking progress and stats, for quality control, and troubleshooting. Hadoop provides two types of counters: Built-in counters and User-defined counters. Customer counters can be created in Java, for example, using 'enum' to define it. The name of the 'enum' is the group name, and the enum fields are the counter names.\n",
    "\n",
    "> __b)__ Composite keys are keys built using the first and second fields so a secondary sort can be achieved. They are useful for problems where a secondary sort needs to be done on data that has already been preocessed a first time. In order to achieve this, a Custom Partitioner function needs to be created in otder to specify how to partition keys passed to the reducers.\n",
    "\n",
    "> __c)__ The order inversion pattern can be used to control the order of reducer values in the MapReduce framework.Order inversion patterns use less memory and simpler data structures. That is beacuse there is no additioanl soprting and ordering needed in the reducer phase. The order inversion pattern is applied at the data analysis phase, ordering the data before it arrives at the Reduce phase.\n"
   ]
  },
  {
   "cell_type": "markdown",
   "metadata": {},
   "source": [
    "# Question 3: Understanding Total Order Sort\n",
    "\n",
    "The key challenge in distributed computing is to break a problem into a set of sub-problems that can be performed without communicating with each other. Ideally, we should be able to define an arbirtary number of splits and still get the right result, but that is not always possible. Parallelization becomes particularly challenging when we need to make comparisons between records, for example when sorting. Total Order Sort allows us to order large datasets in a way that enables efficient retrieval of results. Before beginning this assignment, make sure you have read and understand the [Total Order Sort Notebook](https://github.com/UCB-w261/main/tree/master/HelpfulResources/TotalSortGuide/_total-sort-guide-spark2.01-JAN27-2017.ipynb). You can skip the first two MRJob sections, but the rest of section III and all of section IV are **very** important (and apply to Hadoop Streaming) so make sure to read them closely. Feel free to read the Spark sections as well but you won't be responsible for that material until later in the course. To verify your understanding, answer the following questions.\n",
    "\n",
    "### Q3 Tasks:\n",
    "\n",
    "* __a) short response:__ What is the difference between a partial sort, an unordered total sort, and a total order sort? From the programmer's perspective, what does total order sort allow us to do that we can't with unordered total? Why is this important with large datasets?\n",
    "\n",
    "* __b) short response:__ Which phase of a MapReduce job is leveraged to implement Total Order Sort? Which default behaviors must be changed. Why must they be changed?\n",
    "\n",
    "* __c) short response:__ Describe in words how to configure a Hadoop Streaming job for the custom sorting and partitioning that is required for Total Order Sort.  \n",
    "\n",
    "* __d) short response:__ Explain why we need to use an inverse hash code function.\n",
    "\n",
    "* __e) short response:__ Where does this function need to be located so that a Total Order Sort can be performed?"
   ]
  },
  {
   "cell_type": "markdown",
   "metadata": {},
   "source": [
    "### Q3 Student Answers:\n",
    "\n",
    "> __a)__ In a partial sort, keys are assigned to partitions without any order, and are then sorted within each partition. In the case of an unordered sort, keys are assigned to partitions based on their numeric values. For example, one partition can hold all keys between 0 and 99, another can have all keys between 100 and 199, and so on. The keys within a partition are sorted, but there is no order between the partitions. Finally, the total order sort ensure that, in addition to the keys being assigned to partitions based on their numeric value and the keys being sorted in the partitions, the partitions themselves are assigned in order so that the key groups are in the correct sequence. \n",
    "\n",
    "# From the programmer's perspective, what does total order sort allow us to do that we can't with unordered total? Why is this important with large datasets?\n",
    "\n",
    "> __b)__ Hadoop's architecture only guarantees partial sort in it's shuffling and sort phase. In order to achieve Total Order Sort, three default behaviors must be changed. First, a partition file or function needs to exist inside the Mapper. This is where a partition key is generated to instruct Haddop how to partition records. Second, we need to drop the internal partition key inside the Reducer. This is where the key used for partitioning is drop and the reducer recovers the orignal (key, value) pairs. Finally, there is a post-processing step to order the partitions. While the partitions (i.e., files names) are ordered, the partitions keys may not be.\n",
    "\n",
    "> __c)__ Type your answer here!  \n",
    "\n",
    "# Need to understand what they are asking\n",
    "\n",
    "> __d)__ The inverse hash code function is needed in order to preserve partition key ordering. Th input to the inverse hash function is the desired partition index and total number of partitions. THe output of this fucntion is a particular partition key.\n",
    "\n",
    "> __e)__ This inverse hash function needs to be placed in the Mapper for the Total Order Sort to be performed."
   ]
  },
  {
   "cell_type": "markdown",
   "metadata": {},
   "source": [
    "# About the Data\n",
    "For the main task in this portion of the homework you will train a classifier to determine whether an email represents spam or not. You will train your Naive Bayes model on a 100 record subset of the Enron Spam/Ham corpus available in the HW2 data directory (__`HW2/data/enronemail_1h.txt`__).\n",
    "\n",
    "__Source:__   \n",
    "The original data included about 93,000 emails which were made public after the company's collapse. There have been a number raw and preprocessed versions of this corpus (including those available [here](http://www.aueb.gr/users/ion/data/enron-spam/index.html) and [here](http://www.aueb.gr/users/ion/publications.html)). The subset we will use is limited to emails from 6 Enron employees and a number of spam sources. It is part of [this data set](http://www.aueb.gr/users/ion/data/enron-spam/) which was created by researchers working on personlized Bayesian spam filters. Their original publication is [available here](http://www.aueb.gr/users/ion/docs/ceas2006_paper.pdf). __`IMPORTANT!`__ _For this homework please limit your analysis to the 100 email subset which we provide. No need to download or run your analysis on any of the original datasets, those links are merely provided as context._\n",
    "\n",
    "__Preprocessing:__  \n",
    "For their work, Metsis et al. (the authors) appeared to have pre-processed the data, not only collapsing all text to lower-case, but additionally separating \"words\" by spaces, where \"words\" unfortunately include punctuation. As a concrete example, the sentence:  \n",
    ">  `Hey Jon, I hope you don't get lost out there this weekend!`  \n",
    "\n",
    "... would have been reduced by Metsis et al. to the form:  \n",
    "> `hey jon , i hope you don ' t get lost out there this weekend !` \n",
    "\n",
    "... so we have reverted the data back toward its original state, removing spaces so that our sample sentence would now look like:\n",
    "> `hey jon, i hope you don't get lost out there this weekend!`  \n",
    "\n",
    "Thus we have at least preserved contractions and other higher-order lexical forms. However, one must be aware that this reversion is not complete, and that some object (specifically web sites) will be ill-formatted, and that all text is still lower-cased.\n",
    "\n",
    "\n",
    "__Format:__   \n",
    "All messages are collated to a tab-delimited format:  \n",
    "\n",
    ">    `ID \\t SPAM \\t SUBJECT \\t CONTENT \\n`  \n",
    "\n",
    "where:  \n",
    ">    `ID = string; unique message identifier`  \n",
    "    `SPAM = binary; with 1 indicating a spam message`  \n",
    "    `SUBJECT = string; title of the message`  \n",
    "    `CONTENT = string; content of the message`   \n",
    "    \n",
    "Note that either of `SUBJECT` or `CONTENT` may be \"NA\", and that all tab (\\t) and newline (\\n) characters have been removed from both of the `SUBJECT` and `CONTENT` columns.  "
   ]
  },
  {
   "cell_type": "code",
   "execution_count": 8,
   "metadata": {},
   "outputs": [
    {
     "name": "stdout",
     "output_type": "stream",
     "text": [
      "/media/notebooks/sp21-andreaslemos/Assignments/HW2\n"
     ]
    }
   ],
   "source": [
    "!pwd"
   ]
  },
  {
   "cell_type": "code",
   "execution_count": 9,
   "metadata": {},
   "outputs": [
    {
     "name": "stdout",
     "output_type": "stream",
     "text": [
      "0001.1999-12-10.farmer\t0\t christmas tree farm pictures\tNA\n",
      "0001.1999-12-10.kaminski\t0\t re: rankings\t thank you.\n",
      "0001.2000-01-17.beck\t0\t leadership development pilot\t\" sally:  what timing, ask and you shall receiv\n",
      "0001.2000-06-06.lokay\t0\t\" key dates and impact of upcoming sap implementation over the next few week\n",
      "0001.2001-02-07.kitchen\t0\t key hr issues going forward\t a) year end reviews-report needs generating \n"
     ]
    }
   ],
   "source": [
    "# take a look at the first 100 characters of the first 5 records (RUN THIS CELL AS IS)\n",
    "# !head -n 5 /media/notebooks/Assignments/HW2/{ENRON} | cut -c-100\n",
    "!head -n 5 /media/notebooks/sp21-andreaslemos/Assignments/HW2/{ENRON} | cut -c-100 # Adjusted by Andreas"
   ]
  },
  {
   "cell_type": "code",
   "execution_count": 10,
   "metadata": {},
   "outputs": [
    {
     "name": "stdout",
     "output_type": "stream",
     "text": [
      "100 /media/notebooks/sp21-andreaslemos/Assignments/HW2/data/enronemail_1h.txt\n"
     ]
    }
   ],
   "source": [
    "# see how many messages/lines are in the file \n",
    "#(this number may be off by 1 if the last line doesn't end with a newline)\n",
    "# !wc -l /media/notebooks/Assignments/HW2/{ENRON}\n",
    "!wc -l /media/notebooks/sp21-andreaslemos/Assignments/HW2/{ENRON} # Adjusted by Andreas"
   ]
  },
  {
   "cell_type": "code",
   "execution_count": 11,
   "metadata": {},
   "outputs": [
    {
     "name": "stdout",
     "output_type": "stream",
     "text": [
      "mkdir: `/user/root/HW2': File exists\n"
     ]
    }
   ],
   "source": [
    "# make the HDFS directory if it doesn't already exist\n",
    "!hdfs dfs -mkdir {HDFS_DIR}"
   ]
  },
  {
   "cell_type": "code",
   "execution_count": 12,
   "metadata": {},
   "outputs": [],
   "source": [
    "# load the data into HDFS (RUN THIS CELL AS IS)\n",
    "# !hdfs dfs -copyFromLocal /media/notebooks/Assignments/HW2/{ENRON} {HDFS_DIR}/enron.txt\n",
    "!hdfs dfs -copyFromLocal /media/notebooks/sp21-andreaslemos/Assignments/HW2/{ENRON} {HDFS_DIR}/enron.txt # Adjusted by Andreas"
   ]
  },
  {
   "cell_type": "code",
   "execution_count": 13,
   "metadata": {},
   "outputs": [
    {
     "name": "stdout",
     "output_type": "stream",
     "text": [
      "Found 1 items\n",
      "-rw-r--r--   1 root supergroup     204559 2021-01-21 22:18 /user/root/HW2/enron.txt\n"
     ]
    }
   ],
   "source": [
    "!hdfs dfs -ls {HDFS_DIR}"
   ]
  },
  {
   "cell_type": "markdown",
   "metadata": {},
   "source": [
    "# Question 4:  Enron Ham/Spam EDA.\n",
    "Before building our classifier, lets get aquainted with our data. In particular, we're interested in which words occur more in spam emails than in legitimate (\"ham\") emails. In this question you'll implement two Hadoop MapReduce jobs to count and sort word occurrences by document class. You'll also learn about two new Hadoop streaming parameters that will allow you to control how the records output from your mappers are partitioned for reducing on separate nodes. \n",
    "\n",
    "__`IMPORTANT NOTE:`__ For this question and all subsequent items, you should include both the subject and the body of the email in your analysis (i.e. concatetate them to get the 'text' of the document).\n",
    "\n",
    "### Q4 Tasks:\n",
    "* __a) code:__ Complete the missing components of the code in __`EnronEDA/mapper.py`__ and __`EnronEDA/reducer.py`__ to create a Hadoop  MapReduce job that counts how many times each word in the corpus occurs in an email for each class. Pay close attention to the data format specified in the docstrings of these scripts _-- there are a number of ways to accomplish this task, we've chosen this format to help illustrate a technique in `part e`_. Run the provided unit tests to confirm that your code works as expected, then run the provided Hadoop Streaming command to apply your analysis to the Enron data.\n",
    "\n",
    "\n",
    "* __b) code + short response:__ How many times does the word \"__assistance__\" occur in each class? (`HINT:` Use a `grep` command to read from the results file you generated in '`a`' and then report the answer in the space provided.)\n",
    "\n",
    "\n",
    "* __c) short response:__ Would it have been possible to add some sorting parameters to the Hadoop streaming command that would cause our `part a` results to be sorted by count? Explain why or why not. (`HINT:` This question demands an understanding of the sequence of the phases of MapReduce.)\n",
    "\n",
    "\n",
    "* __d) code + short response:__ Write a second Hadoop MapReduce job to sort the output of `part a` first by class and then by count. Run your job and save the results to a local file. Then describe in words how you would go about printing the top 10 words in each class given this sorted output. (`HINT 1:` _remember that you can simply pass the `part a` output directory to the input field of this job; `HINT 2:` since this task is just reodering the records from `part a` we don't need to write a mapper or reducer, just use `/bin/cat` for both_)\n",
    "\n",
    "\n",
    "* __e) code:__ A more efficient alternative to '`grep`-ing' for the top 10 words in each class would be to use the Hadoop framework to separate records from each class into its own partition so that we can just read the top lines in each. Rewrite your job from ` part d` to specify 2 reduce tasks and to tell Hadoop to partition based on the second field (which indicates spam/ham in our data). Your code should maintain the secondary sort -- that is each partition should list words from most to least frequent."
   ]
  },
  {
   "cell_type": "markdown",
   "metadata": {},
   "source": [
    "### Q4 Student Answers:\n",
    "> __b)__ Type your answer here!  \n",
    "\n",
    "> __c)__ Type your answer here!  \n",
    "\n",
    "> __d)__ Type your answer here!  "
   ]
  },
  {
   "cell_type": "code",
   "execution_count": 14,
   "metadata": {},
   "outputs": [],
   "source": [
    "# part a - do your work in the provided scripts then RUN THIS CELL AS IS\n",
    "!chmod a+x EnronEDA/mapper.py\n",
    "!chmod a+x EnronEDA/reducer.py"
   ]
  },
  {
   "cell_type": "code",
   "execution_count": 15,
   "metadata": {},
   "outputs": [
    {
     "name": "stdout",
     "output_type": "stream",
     "text": [
      "title\t1\t1\n",
      "body\t1\t1\n",
      "title\t0\t1\n",
      "body\t0\t1\n"
     ]
    }
   ],
   "source": [
    "# part a - unit test EnronEDA/mapper.py (RUN THIS CELL AS IS)\n",
    "!echo -e \"d1\t1\ttitle\tbody\\nd2\t0\ttitle\tbody\" | EnronEDA/mapper.py"
   ]
  },
  {
   "cell_type": "code",
   "execution_count": 16,
   "metadata": {},
   "outputs": [
    {
     "name": "stdout",
     "output_type": "stream",
     "text": [
      "one\t0\t2\n",
      "one\t1\t1\n",
      "two\t0\t1\n"
     ]
    }
   ],
   "source": [
    "# part a - unit test EnronEDA/reducer.py (RUN THIS CELL AS IS)\n",
    "!echo -e \"one\t1\t1\\none\t0\t1\\none\t0\t1\\ntwo\t0\t1\" | EnronEDA/reducer.py"
   ]
  },
  {
   "cell_type": "code",
   "execution_count": 17,
   "metadata": {},
   "outputs": [
    {
     "name": "stdout",
     "output_type": "stream",
     "text": [
      "rm: `/user/root/HW2/eda-output': No such file or directory\n"
     ]
    }
   ],
   "source": [
    "# part a - clear output directory in HDFS (RUN THIS CELL AS IS)\n",
    "!hdfs dfs -rm -r {HDFS_DIR}/eda-output"
   ]
  },
  {
   "cell_type": "code",
   "execution_count": 18,
   "metadata": {},
   "outputs": [
    {
     "name": "stdout",
     "output_type": "stream",
     "text": [
      "packageJobJar: [] [/usr/lib/hadoop-mapreduce/hadoop-streaming-2.6.0-cdh5.16.2.jar] /tmp/streamjob5332596431018807321.jar tmpDir=null\n",
      "21/01/21 22:18:58 INFO client.RMProxy: Connecting to ResourceManager at /0.0.0.0:8032\n",
      "21/01/21 22:18:58 INFO client.RMProxy: Connecting to ResourceManager at /0.0.0.0:8032\n",
      "21/01/21 22:18:59 INFO mapred.FileInputFormat: Total input paths to process : 1\n",
      "21/01/21 22:18:59 INFO mapreduce.JobSubmitter: number of splits:2\n",
      "21/01/21 22:18:59 INFO mapreduce.JobSubmitter: Submitting tokens for job: job_1611186257570_0003\n",
      "21/01/21 22:18:59 INFO impl.YarnClientImpl: Submitted application application_1611186257570_0003\n",
      "21/01/21 22:18:59 INFO mapreduce.Job: The url to track the job: http://docker.w261:8088/proxy/application_1611186257570_0003/\n",
      "21/01/21 22:18:59 INFO mapreduce.Job: Running job: job_1611186257570_0003\n",
      "21/01/21 22:19:05 INFO mapreduce.Job: Job job_1611186257570_0003 running in uber mode : false\n",
      "21/01/21 22:19:05 INFO mapreduce.Job:  map 0% reduce 0%\n",
      "21/01/21 22:19:12 INFO mapreduce.Job:  map 100% reduce 0%\n",
      "21/01/21 22:19:17 INFO mapreduce.Job:  map 100% reduce 100%\n",
      "21/01/21 22:19:17 INFO mapreduce.Job: Job job_1611186257570_0003 completed successfully\n",
      "21/01/21 22:19:17 INFO mapreduce.Job: Counters: 49\n",
      "\tFile System Counters\n",
      "\t\tFILE: Number of bytes read=369004\n",
      "\t\tFILE: Number of bytes written=1186309\n",
      "\t\tFILE: Number of read operations=0\n",
      "\t\tFILE: Number of large read operations=0\n",
      "\t\tFILE: Number of write operations=0\n",
      "\t\tHDFS: Number of bytes read=217061\n",
      "\t\tHDFS: Number of bytes written=70551\n",
      "\t\tHDFS: Number of read operations=9\n",
      "\t\tHDFS: Number of large read operations=0\n",
      "\t\tHDFS: Number of write operations=2\n",
      "\tJob Counters \n",
      "\t\tLaunched map tasks=2\n",
      "\t\tLaunched reduce tasks=1\n",
      "\t\tData-local map tasks=2\n",
      "\t\tTotal time spent by all maps in occupied slots (ms)=6772\n",
      "\t\tTotal time spent by all reduces in occupied slots (ms)=3221\n",
      "\t\tTotal time spent by all map tasks (ms)=6772\n",
      "\t\tTotal time spent by all reduce tasks (ms)=3221\n",
      "\t\tTotal vcore-milliseconds taken by all map tasks=6772\n",
      "\t\tTotal vcore-milliseconds taken by all reduce tasks=3221\n",
      "\t\tTotal megabyte-milliseconds taken by all map tasks=6934528\n",
      "\t\tTotal megabyte-milliseconds taken by all reduce tasks=3298304\n",
      "\tMap-Reduce Framework\n",
      "\t\tMap input records=100\n",
      "\t\tMap output records=31490\n",
      "\t\tMap output bytes=306018\n",
      "\t\tMap output materialized bytes=369010\n",
      "\t\tInput split bytes=214\n",
      "\t\tCombine input records=0\n",
      "\t\tCombine output records=0\n",
      "\t\tReduce input groups=5065\n",
      "\t\tReduce shuffle bytes=369010\n",
      "\t\tReduce input records=31490\n",
      "\t\tReduce output records=6060\n",
      "\t\tSpilled Records=62980\n",
      "\t\tShuffled Maps =2\n",
      "\t\tFailed Shuffles=0\n",
      "\t\tMerged Map outputs=2\n",
      "\t\tGC time elapsed (ms)=78\n",
      "\t\tCPU time spent (ms)=3760\n",
      "\t\tPhysical memory (bytes) snapshot=792010752\n",
      "\t\tVirtual memory (bytes) snapshot=4128772096\n",
      "\t\tTotal committed heap usage (bytes)=822607872\n",
      "\tShuffle Errors\n",
      "\t\tBAD_ID=0\n",
      "\t\tCONNECTION=0\n",
      "\t\tIO_ERROR=0\n",
      "\t\tWRONG_LENGTH=0\n",
      "\t\tWRONG_MAP=0\n",
      "\t\tWRONG_REDUCE=0\n",
      "\tFile Input Format Counters \n",
      "\t\tBytes Read=216847\n",
      "\tFile Output Format Counters \n",
      "\t\tBytes Written=70551\n",
      "21/01/21 22:19:17 INFO streaming.StreamJob: Output directory: /user/root/HW2/eda-output\n"
     ]
    }
   ],
   "source": [
    "# part a - Hadoop streaming job (RUN THIS CELL AS IS)\n",
    "!hadoop jar {JAR_FILE} \\\n",
    "  -files EnronEDA/reducer.py,EnronEDA/mapper.py \\\n",
    "  -mapper mapper.py \\\n",
    "  -reducer reducer.py \\\n",
    "  -input {HDFS_DIR}/enron.txt \\\n",
    "  -output {HDFS_DIR}/eda-output \\\n",
    "  -numReduceTasks 1 \\\n",
    "  -cmdenv PATH={PATH}"
   ]
  },
  {
   "cell_type": "code",
   "execution_count": 19,
   "metadata": {},
   "outputs": [],
   "source": [
    "# part a - retrieve results from HDFS & copy them into a local file (RUN THIS CELL AS IS)\n",
    "!hdfs dfs -cat {HDFS_DIR}/eda-output/part-0000* > EnronEDA/results.txt"
   ]
  },
  {
   "cell_type": "code",
   "execution_count": 20,
   "metadata": {},
   "outputs": [
    {
     "name": "stdout",
     "output_type": "stream",
     "text": [
      "assistance\t0\t2\n",
      "assistance\t1\t8\n"
     ]
    }
   ],
   "source": [
    "# part b - write your grep command here\n",
    "!grep 'assistance' EnronEDA/results.txt"
   ]
  },
  {
   "cell_type": "code",
   "execution_count": 21,
   "metadata": {},
   "outputs": [
    {
     "name": "stdout",
     "output_type": "stream",
     "text": [
      "rm: `/user/root/HW2/eda-sort-output': No such file or directory\n"
     ]
    }
   ],
   "source": [
    "# part d - clear the output directory in HDFS (RUN THIS CELL AS IS)\n",
    "!hdfs dfs -rm -r {HDFS_DIR}/eda-sort-output"
   ]
  },
  {
   "cell_type": "code",
   "execution_count": 22,
   "metadata": {},
   "outputs": [
    {
     "name": "stdout",
     "output_type": "stream",
     "text": [
      "packageJobJar: [] [/usr/lib/hadoop-mapreduce/hadoop-streaming-2.6.0-cdh5.16.2.jar] /tmp/streamjob7862240239962594421.jar tmpDir=null\n",
      "21/01/21 22:19:45 INFO client.RMProxy: Connecting to ResourceManager at /0.0.0.0:8032\n",
      "21/01/21 22:19:45 INFO client.RMProxy: Connecting to ResourceManager at /0.0.0.0:8032\n",
      "21/01/21 22:19:45 INFO mapred.FileInputFormat: Total input paths to process : 1\n",
      "21/01/21 22:19:45 INFO mapreduce.JobSubmitter: number of splits:2\n",
      "21/01/21 22:19:45 INFO mapreduce.JobSubmitter: Submitting tokens for job: job_1611186257570_0004\n",
      "21/01/21 22:19:46 INFO impl.YarnClientImpl: Submitted application application_1611186257570_0004\n",
      "21/01/21 22:19:46 INFO mapreduce.Job: The url to track the job: http://docker.w261:8088/proxy/application_1611186257570_0004/\n",
      "21/01/21 22:19:46 INFO mapreduce.Job: Running job: job_1611186257570_0004\n",
      "21/01/21 22:19:52 INFO mapreduce.Job: Job job_1611186257570_0004 running in uber mode : false\n",
      "21/01/21 22:19:52 INFO mapreduce.Job:  map 0% reduce 0%\n",
      "21/01/21 22:19:59 INFO mapreduce.Job:  map 100% reduce 0%\n",
      "21/01/21 22:20:04 INFO mapreduce.Job:  map 100% reduce 100%\n",
      "21/01/21 22:20:05 INFO mapreduce.Job: Job job_1611186257570_0004 completed successfully\n",
      "21/01/21 22:20:05 INFO mapreduce.Job: Counters: 49\n",
      "\tFile System Counters\n",
      "\t\tFILE: Number of bytes read=88737\n",
      "\t\tFILE: Number of bytes written=622703\n",
      "\t\tFILE: Number of read operations=0\n",
      "\t\tFILE: Number of large read operations=0\n",
      "\t\tFILE: Number of write operations=0\n",
      "\t\tHDFS: Number of bytes read=74885\n",
      "\t\tHDFS: Number of bytes written=76611\n",
      "\t\tHDFS: Number of read operations=9\n",
      "\t\tHDFS: Number of large read operations=0\n",
      "\t\tHDFS: Number of write operations=2\n",
      "\tJob Counters \n",
      "\t\tLaunched map tasks=2\n",
      "\t\tLaunched reduce tasks=1\n",
      "\t\tData-local map tasks=2\n",
      "\t\tTotal time spent by all maps in occupied slots (ms)=6526\n",
      "\t\tTotal time spent by all reduces in occupied slots (ms)=3210\n",
      "\t\tTotal time spent by all map tasks (ms)=6526\n",
      "\t\tTotal time spent by all reduce tasks (ms)=3210\n",
      "\t\tTotal vcore-milliseconds taken by all map tasks=6526\n",
      "\t\tTotal vcore-milliseconds taken by all reduce tasks=3210\n",
      "\t\tTotal megabyte-milliseconds taken by all map tasks=6682624\n",
      "\t\tTotal megabyte-milliseconds taken by all reduce tasks=3287040\n",
      "\tMap-Reduce Framework\n",
      "\t\tMap input records=6060\n",
      "\t\tMap output records=6060\n",
      "\t\tMap output bytes=76611\n",
      "\t\tMap output materialized bytes=88743\n",
      "\t\tInput split bytes=238\n",
      "\t\tCombine input records=0\n",
      "\t\tCombine output records=0\n",
      "\t\tReduce input groups=6060\n",
      "\t\tReduce shuffle bytes=88743\n",
      "\t\tReduce input records=6060\n",
      "\t\tReduce output records=6060\n",
      "\t\tSpilled Records=12120\n",
      "\t\tShuffled Maps =2\n",
      "\t\tFailed Shuffles=0\n",
      "\t\tMerged Map outputs=2\n",
      "\t\tGC time elapsed (ms)=86\n",
      "\t\tCPU time spent (ms)=3510\n",
      "\t\tPhysical memory (bytes) snapshot=795299840\n",
      "\t\tVirtual memory (bytes) snapshot=4128522240\n",
      "\t\tTotal committed heap usage (bytes)=822607872\n",
      "\tShuffle Errors\n",
      "\t\tBAD_ID=0\n",
      "\t\tCONNECTION=0\n",
      "\t\tIO_ERROR=0\n",
      "\t\tWRONG_LENGTH=0\n",
      "\t\tWRONG_MAP=0\n",
      "\t\tWRONG_REDUCE=0\n",
      "\tFile Input Format Counters \n",
      "\t\tBytes Read=74647\n",
      "\tFile Output Format Counters \n",
      "\t\tBytes Written=76611\n",
      "21/01/21 22:20:05 INFO streaming.StreamJob: Output directory: /user/root/HW2/eda-sort-output\n"
     ]
    }
   ],
   "source": [
    "### part d - write your Hadoop streaming job here\n",
    "!hadoop jar {JAR_FILE} \\\n",
    "  -D stream.num.map.output.key.fields=3 \\\n",
    "  -D mapreduce.job.output.key.comparator.class=org.apache.hadoop.mapred.lib.KeyFieldBasedComparator \\\n",
    "  -D mapreduce.partition.keycomparator.options=\"-k2n -k3nr -k1\" \\\n",
    "  -mapper /bin/cat \\\n",
    "  -reducer /bin/cat \\\n",
    "  -input {HDFS_DIR}/eda-output \\\n",
    "  -output {HDFS_DIR}/eda-sort-output \\\n",
    "  -numReduceTasks 1 \\\n",
    "  -cmdenv PATH={PATH}"
   ]
  },
  {
   "cell_type": "code",
   "execution_count": 23,
   "metadata": {},
   "outputs": [],
   "source": [
    "### Added by Andreas - but I think it's needed\n",
    "# part d - retrieve results from HDFS & copy them into a local file (RUN THIS CELL AS IS)\n",
    "!hdfs dfs -cat {HDFS_DIR}/eda-sort-output/part-0000* > EnronEDA/results_sort.txt"
   ]
  },
  {
   "cell_type": "code",
   "execution_count": 24,
   "metadata": {},
   "outputs": [
    {
     "name": "stdout",
     "output_type": "stream",
     "text": [
      "Deleted /user/root/HW2/eda-sort-output\n"
     ]
    }
   ],
   "source": [
    "# part e - clear the output directory in HDFS (RUN THIS CELL AS IS)\n",
    "!hdfs dfs -rm -r {HDFS_DIR}/eda-sort-output"
   ]
  },
  {
   "cell_type": "code",
   "execution_count": 25,
   "metadata": {},
   "outputs": [
    {
     "name": "stdout",
     "output_type": "stream",
     "text": [
      "packageJobJar: [] [/usr/lib/hadoop-mapreduce/hadoop-streaming-2.6.0-cdh5.16.2.jar] /tmp/streamjob1025769895919047718.jar tmpDir=null\n",
      "21/01/21 22:21:15 INFO client.RMProxy: Connecting to ResourceManager at /0.0.0.0:8032\n",
      "21/01/21 22:21:15 INFO client.RMProxy: Connecting to ResourceManager at /0.0.0.0:8032\n",
      "21/01/21 22:21:16 INFO mapred.FileInputFormat: Total input paths to process : 1\n",
      "21/01/21 22:21:16 INFO mapreduce.JobSubmitter: number of splits:2\n",
      "21/01/21 22:21:16 INFO mapreduce.JobSubmitter: Submitting tokens for job: job_1611186257570_0005\n",
      "21/01/21 22:21:16 INFO impl.YarnClientImpl: Submitted application application_1611186257570_0005\n",
      "21/01/21 22:21:16 INFO mapreduce.Job: The url to track the job: http://docker.w261:8088/proxy/application_1611186257570_0005/\n",
      "21/01/21 22:21:16 INFO mapreduce.Job: Running job: job_1611186257570_0005\n",
      "21/01/21 22:21:22 INFO mapreduce.Job: Job job_1611186257570_0005 running in uber mode : false\n",
      "21/01/21 22:21:22 INFO mapreduce.Job:  map 0% reduce 0%\n",
      "21/01/21 22:21:27 INFO mapreduce.Job:  map 50% reduce 0%\n",
      "21/01/21 22:21:28 INFO mapreduce.Job:  map 100% reduce 0%\n",
      "21/01/21 22:21:33 INFO mapreduce.Job:  map 100% reduce 50%\n",
      "21/01/21 22:21:34 INFO mapreduce.Job:  map 100% reduce 100%\n",
      "21/01/21 22:21:34 INFO mapreduce.Job: Job job_1611186257570_0005 completed successfully\n",
      "21/01/21 22:21:34 INFO mapreduce.Job: Counters: 49\n",
      "\tFile System Counters\n",
      "\t\tFILE: Number of bytes read=88743\n",
      "\t\tFILE: Number of bytes written=772672\n",
      "\t\tFILE: Number of read operations=0\n",
      "\t\tFILE: Number of large read operations=0\n",
      "\t\tFILE: Number of write operations=0\n",
      "\t\tHDFS: Number of bytes read=74885\n",
      "\t\tHDFS: Number of bytes written=76611\n",
      "\t\tHDFS: Number of read operations=12\n",
      "\t\tHDFS: Number of large read operations=0\n",
      "\t\tHDFS: Number of write operations=4\n",
      "\tJob Counters \n",
      "\t\tLaunched map tasks=2\n",
      "\t\tLaunched reduce tasks=2\n",
      "\t\tData-local map tasks=2\n",
      "\t\tTotal time spent by all maps in occupied slots (ms)=6680\n",
      "\t\tTotal time spent by all reduces in occupied slots (ms)=6699\n",
      "\t\tTotal time spent by all map tasks (ms)=6680\n",
      "\t\tTotal time spent by all reduce tasks (ms)=6699\n",
      "\t\tTotal vcore-milliseconds taken by all map tasks=6680\n",
      "\t\tTotal vcore-milliseconds taken by all reduce tasks=6699\n",
      "\t\tTotal megabyte-milliseconds taken by all map tasks=6840320\n",
      "\t\tTotal megabyte-milliseconds taken by all reduce tasks=6859776\n",
      "\tMap-Reduce Framework\n",
      "\t\tMap input records=6060\n",
      "\t\tMap output records=6060\n",
      "\t\tMap output bytes=76611\n",
      "\t\tMap output materialized bytes=88755\n",
      "\t\tInput split bytes=238\n",
      "\t\tCombine input records=0\n",
      "\t\tCombine output records=0\n",
      "\t\tReduce input groups=6060\n",
      "\t\tReduce shuffle bytes=88755\n",
      "\t\tReduce input records=6060\n",
      "\t\tReduce output records=6060\n",
      "\t\tSpilled Records=12120\n",
      "\t\tShuffled Maps =4\n",
      "\t\tFailed Shuffles=0\n",
      "\t\tMerged Map outputs=4\n",
      "\t\tGC time elapsed (ms)=148\n",
      "\t\tCPU time spent (ms)=4580\n",
      "\t\tPhysical memory (bytes) snapshot=996483072\n",
      "\t\tVirtual memory (bytes) snapshot=5505576960\n",
      "\t\tTotal committed heap usage (bytes)=1140850688\n",
      "\tShuffle Errors\n",
      "\t\tBAD_ID=0\n",
      "\t\tCONNECTION=0\n",
      "\t\tIO_ERROR=0\n",
      "\t\tWRONG_LENGTH=0\n",
      "\t\tWRONG_MAP=0\n",
      "\t\tWRONG_REDUCE=0\n",
      "\tFile Input Format Counters \n",
      "\t\tBytes Read=74647\n",
      "\tFile Output Format Counters \n",
      "\t\tBytes Written=76611\n",
      "21/01/21 22:21:34 INFO streaming.StreamJob: Output directory: /user/root/HW2/eda-sort-output\n"
     ]
    }
   ],
   "source": [
    "# part e - write your Hadoop streaming job here\n",
    "!hadoop jar {JAR_FILE} \\\n",
    "  -D stream.num.map.output.key.fields=3 \\\n",
    "  -D mapreduce.job.output.key.comparator.class=org.apache.hadoop.mapred.lib.KeyFieldBasedComparator \\\n",
    "  -D mapreduce.partition.keycomparator.options=\"-k2n -k3nr -k1\" \\\n",
    "  -D mapreduce.partition.keypartitioner.options=\"-k2,2n\" \\\n",
    "  -mapper /bin/cat \\\n",
    "  -reducer /bin/cat \\\n",
    "  -input {HDFS_DIR}/eda-output \\\n",
    "  -output {HDFS_DIR}/eda-sort-output \\\n",
    "  -numReduceTasks 2 \\\n",
    "  -partitioner org.apache.hadoop.mapred.lib.KeyFieldBasedPartitioner \\\n",
    "  -cmdenv PATH={PATH}"
   ]
  },
  {
   "cell_type": "code",
   "execution_count": 26,
   "metadata": {},
   "outputs": [
    {
     "name": "stdout",
     "output_type": "stream",
     "text": [
      "\n",
      "===== part-00000=====\n",
      "\n",
      "the\t0\t549\t\n",
      "to\t0\t398\t\n",
      "ect\t0\t382\t\n",
      "and\t0\t278\t\n",
      "of\t0\t230\t\n",
      "hou\t0\t206\t\n",
      "a\t0\t196\t\n",
      "in\t0\t182\t\n",
      "for\t0\t170\t\n",
      "on\t0\t135\t\n",
      "cat: Unable to write to output stream.\n",
      "\n",
      "===== part-00001=====\n",
      "\n",
      "the\t1\t698\t\n",
      "to\t1\t566\t\n",
      "and\t1\t392\t\n",
      "your\t1\t357\t\n",
      "a\t1\t347\t\n",
      "you\t1\t345\t\n",
      "of\t1\t336\t\n",
      "in\t1\t236\t\n",
      "for\t1\t204\t\n",
      "com\t1\t153\t\n",
      "cat: Unable to write to output stream.\n"
     ]
    }
   ],
   "source": [
    "# part e - view the top 10 records from each partition (RUN THIS CELL AS IS)\n",
    "for idx in range(2):\n",
    "    print(f\"\\n===== part-0000{idx}=====\\n\")\n",
    "    !hdfs dfs -cat {HDFS_DIR}/eda-sort-output/part-0000{idx} | head"
   ]
  },
  {
   "cell_type": "markdown",
   "metadata": {},
   "source": [
    "__Expected output:__\n",
    "<table>\n",
    "<th>part-00000:</th>\n",
    "<th>part-00001:</th>\n",
    "<tr><td><pre>\n",
    "the\t0\t549\t\n",
    "to\t0\t398\t\n",
    "ect\t0\t382\t\n",
    "and\t0\t278\t\n",
    "of\t0\t230\t\n",
    "hou\t0\t206\t\n",
    "a\t0\t196\t\n",
    "in\t0\t182\t\n",
    "for\t0\t170\t\n",
    "on\t0\t135\n",
    "</pre></td>\n",
    "<td><pre>\n",
    "the\t1\t698\t\n",
    "to\t1\t566\t\n",
    "and\t1\t392\t\n",
    "your\t1\t357\t\n",
    "a\t1\t347\t\n",
    "you\t1\t345\t\n",
    "of\t1\t336\t\n",
    "in\t1\t236\t\n",
    "for\t1\t204\t\n",
    "com\t1\t153\n",
    "</pre></td></tr>\n",
    "</table>"
   ]
  },
  {
   "cell_type": "markdown",
   "metadata": {},
   "source": [
    "# Question 5: Counters and Combiners.\n",
    "Tuning the number of mappers & reducers is helpful to optimize very large distributed computations. Doing so successfully requires a thorough understanding of the data size at each stage of the job. As you learned in the week3 live session, counters are an invaluable resource for understanding this kind of detail. In this question, we will take the EDA performed in Question 4 as an opportunity to illustrate some related concepts.\n",
    "\n",
    "### Q5 Tasks:\n",
    "* __a) short response:__ Read the Hadoop output from your job in Question 4a to report how many records are emitted by the mappers and how many records are received be the reducers. In the context of word counting what does this number represent practically?\n",
    "\n",
    "* __b) code:__ Note that we wrote the reducer in question 4a such that the input and output record format is identical. This makes it easy to use the same reducer script as a combiner. In the space provided below, write the Hadoop Streaming command to re-run your job from question 4a with this combining added.\n",
    "\n",
    "* __c) short response__: Report the number of records emitted by your mappers in part b and the number of records received by your reducers. Compare your results here to what you saw in part a. Explain.\n",
    "\n",
    "* __d) short response__: Describe a scenario where using a combiner would _NOT_ improve the efficiency of the shuffle stage. Explain. [__`BONUS:`__ how does increasing the number of mappers affect the usefulness of a combiner?]"
   ]
  },
  {
   "cell_type": "markdown",
   "metadata": {},
   "source": [
    "### Q5 Student Answers:\n",
    "> __a)__ Based on the output from 4a above (relevant lines displyed below), the mappers emitted 31,490 records as their output (Map output records=31490). Those same 31,490 are received by the Reducers (Reduce input records=31490). From a word counting perspective, this represents the total number of words in the text.\n",
    "\n",
    "- From 4a\n",
    "Map-Reduce Framework\n",
    "\t\tMap input records=100\n",
    "\t\tMap output records=31490\n",
    "        ...\n",
    "\t\tReduce input records=31490\n",
    "\t\tReduce output records=6060\n",
    "\n",
    "\n",
    "> __c)__ The number of records emitted by the Mappers remains the same at 31,490, as expected. However, with the Combiner included, the number of records recieved by the Reducer now has decresed signficantly, from 31,490 top 7,648. This is due to the fact that the Combiner is doing a local aggregation of records. This means that fewer records (i.e., lines) need to be passed to the Reducer.\n",
    "\n",
    "- From 5b\n",
    "Map-Reduce Framework\n",
    "\t\tMap input records=100\n",
    "\t\tMap output records=31490\n",
    "        ...\n",
    "\t\tReduce input records=7648\n",
    "        Reduce output records=6061\n",
    "\n",
    "> __d)__ If the numbers of mappers is close to the number of words, then any local aggregation would not significanlty improve the efficiency of the shuffle stage. that is beacuse there would be very little local aggregation available. Therefore, increasing the number of mappers DECREASES the usefulness of a combiner, since less local aggregation is possible. "
   ]
  },
  {
   "cell_type": "code",
   "execution_count": 30,
   "metadata": {},
   "outputs": [
    {
     "name": "stdout",
     "output_type": "stream",
     "text": [
      "Deleted /user/root/HW2/eda-output\n"
     ]
    }
   ],
   "source": [
    "# part b - clear output directory in HDFS (RUN THIS CELL AS IS)\n",
    "!hdfs dfs -rm -r {HDFS_DIR}/eda-output"
   ]
  },
  {
   "cell_type": "code",
   "execution_count": 31,
   "metadata": {},
   "outputs": [
    {
     "name": "stdout",
     "output_type": "stream",
     "text": [
      "packageJobJar: [] [/usr/lib/hadoop-mapreduce/hadoop-streaming-2.6.0-cdh5.16.2.jar] /tmp/streamjob480988166729164389.jar tmpDir=null\n",
      "21/01/21 22:50:57 INFO client.RMProxy: Connecting to ResourceManager at /0.0.0.0:8032\n",
      "21/01/21 22:50:57 INFO client.RMProxy: Connecting to ResourceManager at /0.0.0.0:8032\n",
      "21/01/21 22:50:58 INFO mapred.FileInputFormat: Total input paths to process : 1\n",
      "21/01/21 22:50:58 INFO mapreduce.JobSubmitter: number of splits:2\n",
      "21/01/21 22:50:58 INFO mapreduce.JobSubmitter: Submitting tokens for job: job_1611186257570_0007\n",
      "21/01/21 22:50:58 INFO impl.YarnClientImpl: Submitted application application_1611186257570_0007\n",
      "21/01/21 22:50:58 INFO mapreduce.Job: The url to track the job: http://docker.w261:8088/proxy/application_1611186257570_0007/\n",
      "21/01/21 22:50:58 INFO mapreduce.Job: Running job: job_1611186257570_0007\n",
      "21/01/21 22:51:04 INFO mapreduce.Job: Job job_1611186257570_0007 running in uber mode : false\n",
      "21/01/21 22:51:04 INFO mapreduce.Job:  map 0% reduce 0%\n",
      "21/01/21 22:51:11 INFO mapreduce.Job:  map 50% reduce 0%\n",
      "21/01/21 22:51:12 INFO mapreduce.Job:  map 100% reduce 0%\n",
      "21/01/21 22:51:17 INFO mapreduce.Job:  map 100% reduce 100%\n",
      "21/01/21 22:51:17 INFO mapreduce.Job: Job job_1611186257570_0007 completed successfully\n",
      "21/01/21 22:51:17 INFO mapreduce.Job: Counters: 49\n",
      "\tFile System Counters\n",
      "\t\tFILE: Number of bytes read=102827\n",
      "\t\tFILE: Number of bytes written=656061\n",
      "\t\tFILE: Number of read operations=0\n",
      "\t\tFILE: Number of large read operations=0\n",
      "\t\tFILE: Number of write operations=0\n",
      "\t\tHDFS: Number of bytes read=217061\n",
      "\t\tHDFS: Number of bytes written=70379\n",
      "\t\tHDFS: Number of read operations=9\n",
      "\t\tHDFS: Number of large read operations=0\n",
      "\t\tHDFS: Number of write operations=2\n",
      "\tJob Counters \n",
      "\t\tLaunched map tasks=2\n",
      "\t\tLaunched reduce tasks=1\n",
      "\t\tData-local map tasks=2\n",
      "\t\tTotal time spent by all maps in occupied slots (ms)=6971\n",
      "\t\tTotal time spent by all reduces in occupied slots (ms)=3194\n",
      "\t\tTotal time spent by all map tasks (ms)=6971\n",
      "\t\tTotal time spent by all reduce tasks (ms)=3194\n",
      "\t\tTotal vcore-milliseconds taken by all map tasks=6971\n",
      "\t\tTotal vcore-milliseconds taken by all reduce tasks=3194\n",
      "\t\tTotal megabyte-milliseconds taken by all map tasks=7138304\n",
      "\t\tTotal megabyte-milliseconds taken by all reduce tasks=3270656\n",
      "\tMap-Reduce Framework\n",
      "\t\tMap input records=100\n",
      "\t\tMap output records=31490\n",
      "\t\tMap output bytes=306018\n",
      "\t\tMap output materialized bytes=102833\n",
      "\t\tInput split bytes=214\n",
      "\t\tCombine input records=31490\n",
      "\t\tCombine output records=7648\n",
      "\t\tReduce input groups=5065\n",
      "\t\tReduce shuffle bytes=102833\n",
      "\t\tReduce input records=7648\n",
      "\t\tReduce output records=6061\n",
      "\t\tSpilled Records=15296\n",
      "\t\tShuffled Maps =2\n",
      "\t\tFailed Shuffles=0\n",
      "\t\tMerged Map outputs=2\n",
      "\t\tGC time elapsed (ms)=77\n",
      "\t\tCPU time spent (ms)=4090\n",
      "\t\tPhysical memory (bytes) snapshot=798838784\n",
      "\t\tVirtual memory (bytes) snapshot=4141117440\n",
      "\t\tTotal committed heap usage (bytes)=822607872\n",
      "\tShuffle Errors\n",
      "\t\tBAD_ID=0\n",
      "\t\tCONNECTION=0\n",
      "\t\tIO_ERROR=0\n",
      "\t\tWRONG_LENGTH=0\n",
      "\t\tWRONG_MAP=0\n",
      "\t\tWRONG_REDUCE=0\n",
      "\tFile Input Format Counters \n",
      "\t\tBytes Read=216847\n",
      "\tFile Output Format Counters \n",
      "\t\tBytes Written=70379\n",
      "21/01/21 22:51:17 INFO streaming.StreamJob: Output directory: /user/root/HW2/eda-output\n"
     ]
    }
   ],
   "source": [
    "# part b - write your Hadoop streaming job here\n",
    "!hadoop jar {JAR_FILE} \\\n",
    "  -files EnronEDA/reducer.py,EnronEDA/mapper.py,EnronEDA/combiner.py \\\n",
    "  -mapper mapper.py \\\n",
    "  -combiner combiner.py \\\n",
    "  -reducer reducer.py \\\n",
    "  -input {HDFS_DIR}/enron.txt \\\n",
    "  -output {HDFS_DIR}/eda-output \\\n",
    "  -numReduceTasks 1 \\\n",
    "  -cmdenv PATH={PATH}"
   ]
  },
  {
   "cell_type": "markdown",
   "metadata": {},
   "source": [
    "# Question 6: Document Classification Task Overview.\n",
    "The week 2 assigned reading from Chapter 13 of _Introduction to Information Retrieval_ by Manning, Raghavan and Schutze provides a thorough introduction to the document classification task and the math behind Naive Bayes. In this question we'll use the example from Table 13.1 (reproduced below) to 'train' an unsmoothed Multinomial Naive Bayes model and classify a test document by hand.\n",
    "\n",
    "<table>\n",
    "<th>DocID</th>\n",
    "<th>Class</th>\n",
    "<th>Subject</th>\n",
    "<th>Body</th>\n",
    "<tr><td>Doc1</td><td>1</td><td></td><td>Chinese Beijing Chinese</td></tr>\n",
    "<tr><td>Doc2</td><td>1</td><td></td><td>Chinese Chinese Shanghai</td></tr>\n",
    "<tr><td>Doc3</td><td>1</td><td></td><td>Chinese Macao</td></tr>\n",
    "<tr><td>Doc4</td><td>0</td><td></td><td>Tokyo Japan Chinese</td></tr>\n",
    "</table>\n",
    "\n",
    "### Q6 Tasks:\n",
    "* __a) short response:__ Equation 13.3 in Manning, Raghavan and Shutze shows how a Multinomial Naive Bayes model classifies a document. It predicts the class, $c$, for which the estimated conditional probability of the class given the document's contents,  $\\hat{P}(c|d)$, is greatest. In this equation what two pieces of information are required to calculate  $\\hat{P}(c|d)$? Your answer should include both mathematical notatation and verbal explanation.\n",
    "\n",
    "\n",
    "* __b) short response:__ The Enron data includes two classes of documents: `spam` and `ham` (they're actually labeled `1` and `0`). In plain English, explain what  $\\hat{P}(c)$ and   $\\hat{P}(t_{k} | c)$ mean in the context of this data. How will we would estimate these values from a training corpus? How many passes over the data would we need to make to retrieve this information for all classes and all words?\n",
    "\n",
    "\n",
    "* __c) hand calculations:__ Above we've reproduced the document classification example from the textbook (we added an empty subject field to mimic the Enron data format). Remember that the classes in this \"Chinese Example\" are `1` (about China) and `0` (not about China). Calculate the class priors and the conditional probabilities for an __unsmoothed__ Multinomial Naive Bayes model trained on this data. Show the calculations that lead to your result using markdown and $\\LaTeX$ in the space provided or by embedding an image of your hand written work. [`NOTE:` _Your results should NOT match those in the text -- they are training a model with +1 smoothing you are training a model without smoothing_]\n",
    "\n",
    "\n",
    "* __d) hand calculations:__ Use the model you trained to classify the following test document: `Chinese Chinese Chinese Tokyo Japan`. Show the calculations that lead to your result using markdown and   $\\LaTeX$ in the space provided or by embedding an image of your hand written work.\n",
    "\n",
    "\n",
    "* __e) short response:__ Compare the classification you get from this unsmoothed model in `d`/`e` to the results in the textbook's \"Example 1\" which reflects a model with Laplace plus 1 smoothing. How does smoothing affect our inference?"
   ]
  },
  {
   "cell_type": "markdown",
   "metadata": {},
   "source": [
    "### Q6 Student Answers:\n",
    "> __a)__ In order to calculate $\\hat{P}(c|d)$, we need two pieces of information. First, we need $\\hat{P}(t_k|c)$. This is the conditional probability of term $t_k$ occurring in a document of class $c$. Secondly, we need $\\hat{P}(c)$, which is the prior probability of a document occurring in class $c$.\n",
    "\n",
    "> __b)__ Using the Enron data as an example, $\\hat{P}(c)$ would mean the probability of a particular email occuring in a given class (spam or ham). And $\\hat{P}(t_k|c)$ is the probability of a given term occuring in a document of a particular class (spma or ham). \n",
    "\n",
    ">To estimate $\\hat{P}(c)$, one can use the the relatice frequencies of the classes. In other words:\n",
    "\n",
    "$$\\hat{P}(c)=\\frac{N_c}{N}$$\n",
    "\n",
    ">where $N_c$ is the number of documents in class $c$, and $N$ is the total number of documents.\n",
    "\n",
    ">To estimate $\\hat{P}(t_k|c)$, we use the relative frequency of term $t$ in documents belonging to class $c$. This is given by the formula:\n",
    "\n",
    "$$\\hat{P}(t_k|c)=\\frac{T_{ct}}{\\sum_{t'\\in{V}}T_{ct'}'}$$\n",
    "\n",
    "> __c)__ The prior probablities are straight forward to calculate, given that our example has a total number of documents of 4 ($N=4$), and that the number of documents of class \"$1$\" is 3 ($N_c=3$). Therefore:\n",
    "\n",
    "$$\\hat{P}(c)=\\frac{N_c}{N}=\\frac{3}{4}$$\n",
    "$$\\hat{P}(\\bar{c})=\\frac{1}{4}$$\n",
    "\n",
    ">The conditional probabilities are calcualted by counting the number of time the terms appear in each class divided by the number of terms in that class. For example, for the first three documents (all of class $1$), the term 'Chinese' appears 5 times, and the total count of terms is 8. This gives us:\n",
    "\n",
    "$$\\hat{P}(Chinese|c)=\\frac{5}{8}$$\n",
    "$$\\hat{P}(Beijing|c)=\\hat{P}(Shanghai|c)=\\hat{P}(Macao|c)=\\frac{1}{8}$$\n",
    "$$\\hat{P}(Tokyo|c)=\\hat{P}(Japan|c)=0$$\n",
    "\n",
    "$$\\hat{P}(Tokyo|\\bar{c})=\\hat{P}(Japan|\\bar{c})=\\hat{P}(Chinese|\\bar{c})=\\frac{1}{3}$$\n",
    "\n",
    "\n",
    "> __d)__ Consider the document 'Chinese Chinese Chinese Tokyo Japan' to be $d_5$. We then have that:\n",
    "\n",
    "$$\\hat{P}(c|d_5) \\propto \\frac{3}{4} \\cdot \\frac{5}{8} \\cdot \\frac{5}{8} \\cdot \\frac{5}{8} \\cdot 0 \\cdot 0=0$$\n",
    "\n",
    "$$\\hat{P}(\\bar{c}|d_5) \\propto \\frac{1}{4} \\cdot \\frac{1}{3} \\cdot \\frac{1}{3} \\cdot \\frac{1}{3} \\cdot \\frac{1}{3} \\cdot \\frac{1}{3}=0.00102$$\n",
    "\n",
    ">Based on the above, the document 'Chinese Chinese Chinese Tokyo Japan' is classified as a class $0$.\n",
    "\n",
    "\n",
    "> __e)__ The smoothed classifier, from the book, works better and classifies the document more accurately beacuse the unsmoothed classifier is unable to handle cases where the term does not appear in any of the documents for a given class. The conditional probability for that term then becomes $0$ in the unsmoothed classifier, bringing the overall probability to zero, incorreclty. The smoothed approach corrects this issue by introducing a $+1$ term to the equation. \n"
   ]
  },
  {
   "cell_type": "code",
   "execution_count": null,
   "metadata": {},
   "outputs": [],
   "source": [
    "# part d/e - if you didn't write out your calcuations above, embed a picture of them here:\n",
    "from IPython.display import Image\n",
    "Image(filename=\"path-to-hand-calulations-image.png\")"
   ]
  },
  {
   "cell_type": "markdown",
   "metadata": {},
   "source": [
    "# Question 7: Naive Bayes Inference.\n",
    "In the next two questions you'll write code to parallelize the Naive Bayes calculations that you performed above. We'll do this in two phases: one MapReduce job to perform training and a second MapReduce to perform inference. While in practice we'd need to train a model before we can use it to classify documents, for learning purposes we're going to develop our code in the opposite order. By first focusing on the pieces of information/format we need to perform the classification (inference) task you should find it easier to develop a solid implementation for training phase when you get to question 8 below. In both of these questions we'll continue to use the Chinese example corpus from the textbook to help us test our MapReduce code as we develop it. Below we've reproduced the corpus, test set and model in text format that matches the Enron data.\n",
    "\n",
    "### Q7 Tasks:\n",
    "* __a) short response:__ run the provided cells to create the example files and load them in to HDFS. Then take a closer look at __`NBmodel.txt`__. This text file represents a Naive Bayes model trained (with Laplace +1 smoothing) on the example corpus. What are the 'keys' and 'values' in this file? Which record means something slightly different than the rest? The value field of each record includes two numbers which will be helpful for debugging but which we don't actually need to perform inference -- what are they? [`HINT`: _This file represents the model from Example 13.1 in the textbook, if you're having trouble getting oriented try comparing our file to the numbers in that example._]\n",
    "\n",
    "\n",
    "* __b) short response:__ When performing Naive Bayes in practice instead of multiplying the probabilities (as in equation 13.3) we add their logs (as in equation 13.4). Why do we choose to work with log probabilities? If we had an unsmoothed model, what potential error could arise from this transformation?\n",
    "\n",
    "\n",
    "* __c) short response:__ Documents 6 and 8 in the test set include a word that did not appear in the training corpus (and as a result does not appear in the model). What should we do at inference time when we need a class conditional probability for this word?\n",
    "\n",
    "\n",
    "* __d) short response:__ The goal of our MapReduce job is to stream over the test set and classify each document by peforming the calculation from equation 13.4. To do this we'll load the model file (which contains the probabilities for equation 13.4) into memory on the nodes where we do our mapping. This is called an in-memory join. Does loading a model 'state' like this depart from the functional programming principles? Explain why or why not. From a scability perspective when would this kind of memory use be justified? when would it be unwise?\n",
    "\n",
    "\n",
    "* __e) code:__ Complete the code in __`NaiveBayes/classify_mapper.py`__. Read the docstring carefully to understand how this script should work and the format it should return. Run the provided unit tests to confirm that your script works as expected then write a Hadoop streaming job to classify the Chinese example test set. [`HINT 1:` _you shouldn't need a reducer for this one._ `HINT 2:` _Don't forget to add the model file to the_ `-files` _parameter in your Hadoop streaming job so that it gets shipped to the mapper nodes where it will be accessed by your script._]\n",
    "\n",
    "\n",
    "* __f) short response:__ In our test example and in the Enron data set we have fairly short documents. Since these fit fine in memory on a mapper node we didn't need a reducer and could just do all of our calculations in the mapper. However with much longer documents (eg. books) we might want a higher level of parallelization -- for example we might want to process parts of a document on different nodes. In this hypothetical scenario how would our algorithm design change? What could the mappers still do? What key-value structure would they emit? What would the reducers have to do as a last step?"
   ]
  },
  {
   "cell_type": "markdown",
   "metadata": {},
   "source": [
    "# Answer part d"
   ]
  },
  {
   "cell_type": "markdown",
   "metadata": {},
   "source": [
    "### Q7 Student Answers:\n",
    "> __a)__ Tthe keys in NBModel.txt are the particular terms, such as 'chinese' and 'tokyo'. The values are the sequence of four numerical elements that follow each key, such as '0.0,1.0,0.111111111111,0.142857142857'.\n",
    ">The ClassPriors record means something different than the rest. While the others are associated with specific terms, the ClassPriors records has information about the ClassPriors for each class.\n",
    "> The first two numbers in the value field are not directly used in the inference. They are the counts that the term appear in class '0' and class '1'. The third and fourth numbers are the actual conditional probabilities that are used in the inference.\n",
    "\n",
    "> __b)__  Using log probabilities allows us to use a Sum of conditional probabilities instead of a Multiplication of them. Such multiplication could result in a floating point underflow. If we used the unsmoothed model, we could get to a situation where we are trying to calculate the log of zero, which is undefined.\n",
    "\n",
    "> __c)__ Under the smoothed model, this type of case is handled by the $+1$ term that is included in the numerator. Since it appears 0 times in training data, the numerator would just be '$0+1$' and the computation will still be possible.\n",
    "\n",
    "> __d)__ Type your answer here!\n",
    "\n",
    "> __e)__ Complete the coding portion of this question before answering 'f'.\n",
    "\n",
    "> __f)__ Type your answer here!\n"
   ]
  },
  {
   "cell_type": "markdown",
   "metadata": {},
   "source": [
    "Run these cells to create the example corpus and model."
   ]
  },
  {
   "cell_type": "code",
   "execution_count": 105,
   "metadata": {},
   "outputs": [
    {
     "name": "stdout",
     "output_type": "stream",
     "text": [
      "Overwriting NaiveBayes/chineseTrain.txt\n"
     ]
    }
   ],
   "source": [
    "%%writefile NaiveBayes/chineseTrain.txt\n",
    "D1\t1\t\tChinese Beijing Chinese\n",
    "D2\t1\t\tChinese Chinese Shanghai\n",
    "D3\t1\t\tChinese Macao\n",
    "D4\t0\t\tTokyo Japan Chinese"
   ]
  },
  {
   "cell_type": "code",
   "execution_count": 106,
   "metadata": {},
   "outputs": [
    {
     "name": "stdout",
     "output_type": "stream",
     "text": [
      "Overwriting NaiveBayes/chineseTest.txt\n"
     ]
    }
   ],
   "source": [
    "%%writefile NaiveBayes/chineseTest.txt\n",
    "D5\t1\t\tChinese Chinese Chinese Tokyo Japan\n",
    "D6\t1\t\tBeijing Shanghai Trade\n",
    "D7\t0\t\tJapan Macao Tokyo\n",
    "D8\t0\t\tTokyo Japan Trade"
   ]
  },
  {
   "cell_type": "code",
   "execution_count": 107,
   "metadata": {},
   "outputs": [
    {
     "name": "stdout",
     "output_type": "stream",
     "text": [
      "Overwriting NBmodel.txt\n"
     ]
    }
   ],
   "source": [
    "%%writefile NBmodel.txt\n",
    "beijing\t0.0,1.0,0.111111111111,0.142857142857\n",
    "chinese\t1.0,5.0,0.222222222222,0.428571428571\n",
    "tokyo\t1.0,0.0,0.222222222222,0.0714285714286\n",
    "shanghai\t0.0,1.0,0.111111111111,0.142857142857\n",
    "ClassPriors\t1.0,3.0,0.25,0.75\n",
    "japan\t1.0,0.0,0.222222222222,0.0714285714286\n",
    "macao\t0.0,1.0,0.111111111111,0.142857142857"
   ]
  },
  {
   "cell_type": "code",
   "execution_count": 223,
   "metadata": {},
   "outputs": [
    {
     "name": "stdout",
     "output_type": "stream",
     "text": [
      "copyFromLocal: `/user/root/HW2/chineseTrain.txt': File exists\n",
      "copyFromLocal: `/user/root/HW2/chineseTest.txt': File exists\n"
     ]
    }
   ],
   "source": [
    "# load the data files into HDFS\n",
    "!hdfs dfs -copyFromLocal NaiveBayes/chineseTrain.txt {HDFS_DIR}\n",
    "!hdfs dfs -copyFromLocal NaiveBayes/chineseTest.txt {HDFS_DIR}"
   ]
  },
  {
   "cell_type": "markdown",
   "metadata": {},
   "source": [
    "Your work for `part e` starts here:"
   ]
  },
  {
   "cell_type": "code",
   "execution_count": 110,
   "metadata": {},
   "outputs": [],
   "source": [
    "# part e - do your work in NaiveBayes/classify_mapper.py first, then run this cell.\n",
    "!chmod a+x NaiveBayes/classify_mapper.py"
   ]
  },
  {
   "cell_type": "markdown",
   "metadata": {},
   "source": [
    "# Just using 'else: pass' if word not in model. Check this"
   ]
  },
  {
   "cell_type": "code",
   "execution_count": 111,
   "metadata": {},
   "outputs": [
    {
     "name": "stdout",
     "output_type": "stream",
     "text": [
      "d5  1  -8.90668134500626   -8.10769031284611   1\n",
      "d6  1  -5.780743515794329  -4.179502370564408  1\n",
      "d7  0  -6.591673732011658  -7.511706880737811  0\n",
      "d8  0  -4.394449154674438  -5.565796731681498  0\n"
     ]
    }
   ],
   "source": [
    "# part e - unit test NaiveBayes/classify_mapper.py (RUN THIS CELL AS IS)\n",
    "!cat NaiveBayes/chineseTest.txt | NaiveBayes/classify_mapper.py | column -t"
   ]
  },
  {
   "cell_type": "code",
   "execution_count": 186,
   "metadata": {},
   "outputs": [
    {
     "name": "stdout",
     "output_type": "stream",
     "text": [
      "Deleted /user/root/HW2/chinese-output\n"
     ]
    }
   ],
   "source": [
    "# part e - clear the output directory in HDFS (RUN THIS CELL AS IS)\n",
    "!hdfs dfs -rm -r {HDFS_DIR}/chinese-output"
   ]
  },
  {
   "cell_type": "code",
   "execution_count": 187,
   "metadata": {},
   "outputs": [
    {
     "name": "stdout",
     "output_type": "stream",
     "text": [
      "packageJobJar: [] [/usr/lib/hadoop-mapreduce/hadoop-streaming-2.6.0-cdh5.16.2.jar] /tmp/streamjob4056177011881755139.jar tmpDir=null\n",
      "21/01/24 01:14:43 INFO client.RMProxy: Connecting to ResourceManager at /0.0.0.0:8032\n",
      "21/01/24 01:14:43 INFO client.RMProxy: Connecting to ResourceManager at /0.0.0.0:8032\n",
      "21/01/24 01:14:43 INFO mapred.FileInputFormat: Total input paths to process : 1\n",
      "21/01/24 01:14:43 INFO mapreduce.JobSubmitter: number of splits:2\n",
      "21/01/24 01:14:43 INFO mapreduce.JobSubmitter: Submitting tokens for job: job_1611186257570_0014\n",
      "21/01/24 01:14:44 INFO impl.YarnClientImpl: Submitted application application_1611186257570_0014\n",
      "21/01/24 01:14:44 INFO mapreduce.Job: The url to track the job: http://docker.w261:8088/proxy/application_1611186257570_0014/\n",
      "21/01/24 01:14:44 INFO mapreduce.Job: Running job: job_1611186257570_0014\n",
      "21/01/24 01:14:50 INFO mapreduce.Job: Job job_1611186257570_0014 running in uber mode : false\n",
      "21/01/24 01:14:50 INFO mapreduce.Job:  map 0% reduce 0%\n",
      "21/01/24 01:14:56 INFO mapreduce.Job:  map 50% reduce 0%\n",
      "21/01/24 01:14:57 INFO mapreduce.Job:  map 100% reduce 0%\n",
      "21/01/24 01:15:01 INFO mapreduce.Job:  map 100% reduce 100%\n",
      "21/01/24 01:15:01 INFO mapreduce.Job: Job job_1611186257570_0014 completed successfully\n",
      "21/01/24 01:15:01 INFO mapreduce.Job: Counters: 49\n",
      "\tFile System Counters\n",
      "\t\tFILE: Number of bytes read=192\n",
      "\t\tFILE: Number of bytes written=446696\n",
      "\t\tFILE: Number of read operations=0\n",
      "\t\tFILE: Number of large read operations=0\n",
      "\t\tFILE: Number of write operations=0\n",
      "\t\tHDFS: Number of bytes read=405\n",
      "\t\tHDFS: Number of bytes written=178\n",
      "\t\tHDFS: Number of read operations=9\n",
      "\t\tHDFS: Number of large read operations=0\n",
      "\t\tHDFS: Number of write operations=2\n",
      "\tJob Counters \n",
      "\t\tLaunched map tasks=2\n",
      "\t\tLaunched reduce tasks=1\n",
      "\t\tData-local map tasks=2\n",
      "\t\tTotal time spent by all maps in occupied slots (ms)=6392\n",
      "\t\tTotal time spent by all reduces in occupied slots (ms)=2899\n",
      "\t\tTotal time spent by all map tasks (ms)=6392\n",
      "\t\tTotal time spent by all reduce tasks (ms)=2899\n",
      "\t\tTotal vcore-milliseconds taken by all map tasks=6392\n",
      "\t\tTotal vcore-milliseconds taken by all reduce tasks=2899\n",
      "\t\tTotal megabyte-milliseconds taken by all map tasks=6545408\n",
      "\t\tTotal megabyte-milliseconds taken by all reduce tasks=2968576\n",
      "\tMap-Reduce Framework\n",
      "\t\tMap input records=4\n",
      "\t\tMap output records=4\n",
      "\t\tMap output bytes=178\n",
      "\t\tMap output materialized bytes=198\n",
      "\t\tInput split bytes=226\n",
      "\t\tCombine input records=0\n",
      "\t\tCombine output records=0\n",
      "\t\tReduce input groups=4\n",
      "\t\tReduce shuffle bytes=198\n",
      "\t\tReduce input records=4\n",
      "\t\tReduce output records=4\n",
      "\t\tSpilled Records=8\n",
      "\t\tShuffled Maps =2\n",
      "\t\tFailed Shuffles=0\n",
      "\t\tMerged Map outputs=2\n",
      "\t\tGC time elapsed (ms)=96\n",
      "\t\tCPU time spent (ms)=1950\n",
      "\t\tPhysical memory (bytes) snapshot=795373568\n",
      "\t\tVirtual memory (bytes) snapshot=4130242560\n",
      "\t\tTotal committed heap usage (bytes)=822607872\n",
      "\tShuffle Errors\n",
      "\t\tBAD_ID=0\n",
      "\t\tCONNECTION=0\n",
      "\t\tIO_ERROR=0\n",
      "\t\tWRONG_LENGTH=0\n",
      "\t\tWRONG_MAP=0\n",
      "\t\tWRONG_REDUCE=0\n",
      "\tFile Input Format Counters \n",
      "\t\tBytes Read=179\n",
      "\tFile Output Format Counters \n",
      "\t\tBytes Written=178\n",
      "21/01/24 01:15:01 INFO streaming.StreamJob: Output directory: /user/root/HW2/chinese-output\n"
     ]
    }
   ],
   "source": [
    "# part e - write your Hadooop streaming job here\n",
    "!hadoop jar {JAR_FILE} \\\n",
    "  -files NaiveBayes/classify_mapper.py,NBmodel.txt \\\n",
    "  -mapper classify_mapper.py \\\n",
    "  -input {HDFS_DIR}/chineseTest.txt \\\n",
    "  -output {HDFS_DIR}/chinese-output \\\n",
    "  -cmdenv PATH={PATH}"
   ]
  },
  {
   "cell_type": "code",
   "execution_count": 188,
   "metadata": {},
   "outputs": [],
   "source": [
    "# part e - retrieve test set results from HDFS (RUN THIS CELL AS IS)\n",
    "!hdfs dfs -cat {HDFS_DIR}/chinese-output/part-000* > NaiveBayes/chineseResults.txt"
   ]
  },
  {
   "cell_type": "code",
   "execution_count": 189,
   "metadata": {},
   "outputs": [
    {
     "name": "stdout",
     "output_type": "stream",
     "text": [
      "d5  1  -8.90668134500626   -8.10769031284611   1\n",
      "d6  1  -5.780743515794329  -4.179502370564408  1\n",
      "d7  0  -6.591673732011658  -7.511706880737811  0\n",
      "d8  0  -4.394449154674438  -5.565796731681498  0\n"
     ]
    }
   ],
   "source": [
    "# part e - take a look (RUN THIS CELL AS IS)\n",
    "!cat NaiveBayes/chineseResults.txt | column -t"
   ]
  },
  {
   "cell_type": "markdown",
   "metadata": {},
   "source": [
    "<table>\n",
    "<th> Expected output for the test set:</th>\n",
    "<tr align=Left><td><pre>\n",
    "d5\t1\t-8.90668134\t-8.10769031\t1\n",
    "d6\t1\t-5.78074351\t-4.17950237\t1\n",
    "d7\t0\t-6.59167373\t-7.51170688\t0\n",
    "d8\t0\t-4.39444915\t-5.56579673\t0\n",
    "</pre></td><tr>\n",
    "</table>"
   ]
  },
  {
   "cell_type": "markdown",
   "metadata": {},
   "source": [
    "# Question 8: Naive Bayes Training.\n",
    "In Question 7 we used a model that we had trained by hand. Next we'll develop the code to do that same training in parallel, making it suitable for use with larger corpora (like the Enron emails). The end result of the MapReduce job you write in this question should be a model text file that looks just like the example (`NBmodel.txt`) that we created by hand above.\n",
    "\n",
    "To refresh your memory about the training process take a look at  `6a` and `6b` where you described the pieces of information you'll need to collect in order to encode a Multinomial Naive Bayes model. We now want to retrieve those pieces of information while streaming over a corpus. The bulk of the task will be very similar to the word counting excercises you've already done but you may want to consider a slightly different key-value record structure to efficiently tally counts for each class. \n",
    "\n",
    "The most challenging (interesting?) design question will be how to retrieve the totals (# of documents and # of words in documents for each class). Of course, counting these numbers is easy. The hard part is the timing: you'll need to make sure you have the counts totalled up _before_ you start estimating the class conditional probabilities for each word. It would be best (i.e. most scalable) if we could find a way to do this tallying without storing the whole vocabulary in memory... Use an appropriate MapReduce design pattern to implement this efficiently! \n",
    "\n",
    "\n",
    "### Q8 Tasks:\n",
    "* __a) make a plan:__  Fill in the docstrings for __`NaiveBayes/train_mapper.py`__ and __`NaiveBayes/train_reducer.py`__ to appropriately reflect the format that each script will input/output. [`HINT:` _the input files_ (`enronemail_1h.txt` & `chineseTrain.txt`) _have a prespecified format and your output file should match_ `NBmodel.txt` _so you really only have to decide on an internal format for Hadoop_].\n",
    "\n",
    "\n",
    "* __b) implement it:__ Complete the code in __`NaiveBayes/train_mapper.py`__ and __`NaiveBayes/train_reducer.py`__ so that together they train a Multinomial Naive Bayes model __with no smoothing__. Make sure your end result is formatted correctly (see note above). Test your scripts independently and together (using `chineseTrain.txt` or test input of your own devising). When you are satisfied with your Python code design and run a Hadoop streaming command to run your job in parallel on the __chineseTrain.txt__. Confirm that your trained model matches your hand calculations from Question 5.\n",
    "\n",
    "\n",
    "* __c) short response:__ We saw in Question 6 that adding Laplace +1 smoothing makes our classifications less sensitve to rare words. However implementing this technique requires access to one additional piece of information that we had not previously used in our Naive Bayes training. What is that extra piece of information? [`HINT:` see equation 13.7 in Manning, Raghavan and Schutze].\n",
    "\n",
    "\n",
    "* __d) short response:__ There are a couple of approaches that we could take to handle the extra piece of information you identified in `c`: 1) if we knew this extra information beforehand, we could provide it to our reducer as a configurable parameter for the vocab size dynamically (_where would we get it in the first place?_). Or 2) we could compute it in the reducer without storing any bulky information in memory but then we'd need some postprocessing or a second MapReduce job to complete the calculation (_why?_). Breifly explain what is non-ideal about each of these options. \n",
    "\n",
    "\n",
    "* __e) code + short response:__ Choose one of the 2 options above. State your choice & reasoning in the space below then use that strategy to complete the code in __`NaiveBayes/train_reducer_smooth.py`__. Test this alternate reducer then write and run a Hadoop streaming job to train an MNB model with smoothing on the Chinese example. Your results should match the model that we provided for you above (and the calculations in the textbook example). __IMPORTANT NOTE:__ For full credit on this question, your code must work with multiple reducers. \n",
    "\n",
    "    - [`HINT:` You will need to implement custom partitioning - [Total Order Sort Notebook](https://github.com/UCB-w261/main/tree/master/HelpfulResources/TotalSortGuide/_total-sort-guide-spark2.01-JAN27-2017.ipynb)] \n",
    "\n",
    "    - [`HINT:` Don't start from scratch with this one -- you can just copy over your reducer code from part `b` and make the needed modifications]. \n"
   ]
  },
  {
   "cell_type": "markdown",
   "metadata": {},
   "source": [
    "\n",
    "__IMPORTANT NOTE:__ For full credit on this question, your code must work with multiple reducers. [`HINT:`_You will need to implement custom partitioning - [Total Order Sort Notebook](https://github.com/UCB-w261/main/tree/master/HelpfulResources/TotalSortGuide/_total-sort-guide-spark2.01-JAN27-2017.ipynb)]\n"
   ]
  },
  {
   "cell_type": "markdown",
   "metadata": {},
   "source": [
    "### Q8 Student Answers:\n",
    "> __ c)__ where B = |V| is the number of terms in the vocabulary\n",
    "\n",
    "> __ d)__ Type your answer here!\n",
    "\n",
    "> __ e)__ Type your answer here!\n"
   ]
  },
  {
   "cell_type": "code",
   "execution_count": 114,
   "metadata": {},
   "outputs": [
    {
     "name": "stdout",
     "output_type": "stream",
     "text": [
      "=========== MAPPER DOCSTRING ============\n",
      "Mapper reads in text documents and emits word counts by class.\n",
      "INPUT:                                                    \n",
      "    DocID \\t true_class \\t subject \\t body                \n",
      "OUTPUT:                                                   \n",
      "    partitionKey \\t word \\t class0_partialCount,class1_partialCount       \n",
      "    \n",
      "=========== REDUCER DOCSTRING ============\n",
      "Reducer aggregates word counts by class and emits frequencies.\n",
      "\n",
      "INPUT:\n",
      "    partitionKey \\t word \\t class0_partialCount,class1_partialCount \n",
      "OUTPUT:\n",
      "    ID \\t word \\t class0_count,class1count,P(word|class0),P(word|class1)\n"
     ]
    }
   ],
   "source": [
    "# part a - do your work in train_mapper.py and train_reducer.py then RUN THIS CELL AS IS\n",
    "!chmod a+x NaiveBayes/train_mapper.py\n",
    "!chmod a+x NaiveBayes/train_reducer.py\n",
    "!echo \"=========== MAPPER DOCSTRING ============\"\n",
    "!head -n 8 NaiveBayes/train_mapper.py | tail -n 6\n",
    "!echo \"=========== REDUCER DOCSTRING ============\"\n",
    "!head -n 8 NaiveBayes/train_reducer.py | tail -n 6"
   ]
  },
  {
   "cell_type": "code",
   "execution_count": null,
   "metadata": {},
   "outputs": [],
   "source": [
    "### REFERENCE FOR UNIT TEST - REMOVE!!!!!\n",
    "\n",
    "D1\t1\t\tChinese Beijing Chinese\n",
    "D2\t1\t\tChinese Chinese Shanghai\n",
    "D3\t1\t\tChinese Macao\n",
    "D4\t0\t\tTokyo Japan Chinese\n",
    "\n",
    "\n",
    "D5\t1\t\tChinese Chinese Chinese Tokyo Japan\n",
    "D6\t1\t\tBeijing Shanghai Trade\n",
    "D7\t0\t\tJapan Macao Tokyo\n",
    "D8\t0\t\tTokyo Japan Trade"
   ]
  },
  {
   "cell_type": "markdown",
   "metadata": {},
   "source": [
    "__`part b starts here`:__ MNB _without_ Smoothing (training on Chinese Example Corpus)."
   ]
  },
  {
   "cell_type": "code",
   "execution_count": 256,
   "metadata": {},
   "outputs": [
    {
     "name": "stdout",
     "output_type": "stream",
     "text": [
      "A  chinese              0,1\n",
      "A  beijing              0,1\n",
      "A  chinese              0,1\n",
      "A  chinese              0,1\n",
      "A  chinese              0,1\n",
      "C  shanghai             0,1\n",
      "A  chinese              0,1\n",
      "B  macao                0,1\n",
      "C  tokyo                1,0\n",
      "B  japan                1,0\n",
      "A  chinese              1,0\n",
      "A  !totalWordCount      3,8\n",
      "A  !totalDocClassCount  1,3\n",
      "B  !totalWordCount      3,8\n",
      "B  !totalDocClassCount  1,3\n",
      "C  !totalWordCount      3,8\n",
      "C  !totalDocClassCount  1,3\n"
     ]
    }
   ],
   "source": [
    "# part b - write a unit test for your mapper here\n",
    "!cat NaiveBayes/chineseTrain.txt | NaiveBayes/train_mapper.py | column -t"
   ]
  },
  {
   "cell_type": "code",
   "execution_count": null,
   "metadata": {},
   "outputs": [],
   "source": [
    "### REFERENCE FOR UNIT TEST - REMOVE!!!!!\n",
    "\n",
    "chinese\t1.0,5.0,0.222222222222,0.428571428571\n",
    "ClassPriors\t1.0,3.0,0.25,0.75\n",
    "\n",
    "beijing\t0.0,1.0,0.111111111111,0.142857142857\n",
    "chinese\t1.0,5.0,0.222222222222,0.428571428571\n",
    "tokyo\t1.0,0.0,0.222222222222,0.0714285714286\n",
    "shanghai\t0.0,1.0,0.111111111111,0.142857142857\n",
    "ClassPriors\t1.0,3.0,0.25,0.75\n",
    "japan\t1.0,0.0,0.222222222222,0.0714285714286\n",
    "macao\t0.0,1.0,0.111111111111,0.142857142857"
   ]
  },
  {
   "cell_type": "code",
   "execution_count": 284,
   "metadata": {},
   "outputs": [
    {
     "name": "stdout",
     "output_type": "stream",
     "text": [
      "atest        0.0,  1.0,  0.0,                 0.125\n",
      "beijing      1.0,  2.0,  0.3333333333333333,  0.25\n",
      "btest        1.0,  0.0,  0.3333333333333333,  0.0\n",
      "chinese      2.0,  5.0,  0.6666666666666666,  0.625\n",
      "ClassPriors  1.0,  3.0,  0.25,                0.75\n"
     ]
    }
   ],
   "source": [
    "# part b - write a unit test for your reducer here\n",
    "!cat chineseTemp.txt | NaiveBayes/train_reducer.py | column -t"
   ]
  },
  {
   "cell_type": "code",
   "execution_count": 285,
   "metadata": {},
   "outputs": [
    {
     "name": "stdout",
     "output_type": "stream",
     "text": [
      "beijing      0.0,  1.0,  0.0,                 0.125\n",
      "chinese      1.0,  5.0,  0.3333333333333333,  0.625\n",
      "japan        1.0,  0.0,  0.3333333333333333,  0.0\n",
      "macao        0.0,  1.0,  0.0,                 0.125\n",
      "shanghai     0.0,  1.0,  0.0,                 0.125\n",
      "tokyo        1.0,  0.0,  0.3333333333333333,  0.0\n",
      "ClassPriors  1.0,  3.0,  0.25,                0.75\n"
     ]
    }
   ],
   "source": [
    "# part b - write a systems test for your mapper + reducer together here\n",
    "!cat NaiveBayes/chineseTrain.txt | NaiveBayes/train_mapper.py | sort -k1,1 | NaiveBayes/train_reducer.py | column -t"
   ]
  },
  {
   "cell_type": "code",
   "execution_count": null,
   "metadata": {},
   "outputs": [],
   "source": [
    "# part b - clear (and name) an output directory in HDFS for your unsmoothed chinese NB model\n",
    "!hdfs dfs -rm -r {HDFS_DIR}/chinese-output-nb-unsmoothed"
   ]
  },
  {
   "cell_type": "code",
   "execution_count": 292,
   "metadata": {},
   "outputs": [
    {
     "name": "stdout",
     "output_type": "stream",
     "text": [
      "Deleted /user/root/HW2/chinese-output-nb-unsmoothed\n",
      "packageJobJar: [] [/usr/lib/hadoop-mapreduce/hadoop-streaming-2.6.0-cdh5.16.2.jar] /tmp/streamjob5181737867531070062.jar tmpDir=null\n",
      "21/01/24 12:31:32 INFO client.RMProxy: Connecting to ResourceManager at /0.0.0.0:8032\n",
      "21/01/24 12:31:32 INFO client.RMProxy: Connecting to ResourceManager at /0.0.0.0:8032\n",
      "21/01/24 12:31:33 INFO mapred.FileInputFormat: Total input paths to process : 1\n",
      "21/01/24 12:31:33 INFO mapreduce.JobSubmitter: number of splits:2\n",
      "21/01/24 12:31:33 INFO mapreduce.JobSubmitter: Submitting tokens for job: job_1611186257570_0049\n",
      "21/01/24 12:31:33 INFO impl.YarnClientImpl: Submitted application application_1611186257570_0049\n",
      "21/01/24 12:31:33 INFO mapreduce.Job: The url to track the job: http://docker.w261:8088/proxy/application_1611186257570_0049/\n",
      "21/01/24 12:31:33 INFO mapreduce.Job: Running job: job_1611186257570_0049\n",
      "21/01/24 12:31:39 INFO mapreduce.Job: Job job_1611186257570_0049 running in uber mode : false\n",
      "21/01/24 12:31:39 INFO mapreduce.Job:  map 0% reduce 0%\n",
      "21/01/24 12:31:45 INFO mapreduce.Job:  map 50% reduce 0%\n",
      "21/01/24 12:31:46 INFO mapreduce.Job:  map 100% reduce 0%\n",
      "21/01/24 12:31:51 INFO mapreduce.Job:  map 100% reduce 33%\n",
      "21/01/24 12:31:52 INFO mapreduce.Job:  map 100% reduce 67%\n",
      "21/01/24 12:31:53 INFO mapreduce.Job:  map 100% reduce 100%\n",
      "21/01/24 12:31:54 INFO mapreduce.Job: Job job_1611186257570_0049 completed successfully\n",
      "21/01/24 12:31:54 INFO mapreduce.Job: Counters: 49\n",
      "\tFile System Counters\n",
      "\t\tFILE: Number of bytes read=524\n",
      "\t\tFILE: Number of bytes written=754222\n",
      "\t\tFILE: Number of read operations=0\n",
      "\t\tFILE: Number of large read operations=0\n",
      "\t\tFILE: Number of write operations=0\n",
      "\t\tHDFS: Number of bytes read=389\n",
      "\t\tHDFS: Number of bytes written=390\n",
      "\t\tHDFS: Number of read operations=15\n",
      "\t\tHDFS: Number of large read operations=0\n",
      "\t\tHDFS: Number of write operations=6\n",
      "\tJob Counters \n",
      "\t\tLaunched map tasks=2\n",
      "\t\tLaunched reduce tasks=3\n",
      "\t\tData-local map tasks=2\n",
      "\t\tTotal time spent by all maps in occupied slots (ms)=6478\n",
      "\t\tTotal time spent by all reduces in occupied slots (ms)=11217\n",
      "\t\tTotal time spent by all map tasks (ms)=6478\n",
      "\t\tTotal time spent by all reduce tasks (ms)=11217\n",
      "\t\tTotal vcore-milliseconds taken by all map tasks=6478\n",
      "\t\tTotal vcore-milliseconds taken by all reduce tasks=11217\n",
      "\t\tTotal megabyte-milliseconds taken by all map tasks=6633472\n",
      "\t\tTotal megabyte-milliseconds taken by all reduce tasks=11486208\n",
      "\tMap-Reduce Framework\n",
      "\t\tMap input records=4\n",
      "\t\tMap output records=23\n",
      "\t\tMap output bytes=460\n",
      "\t\tMap output materialized bytes=542\n",
      "\t\tInput split bytes=228\n",
      "\t\tCombine input records=0\n",
      "\t\tCombine output records=0\n",
      "\t\tReduce input groups=20\n",
      "\t\tReduce shuffle bytes=542\n",
      "\t\tReduce input records=23\n",
      "\t\tReduce output records=9\n",
      "\t\tSpilled Records=46\n",
      "\t\tShuffled Maps =6\n",
      "\t\tFailed Shuffles=0\n",
      "\t\tMerged Map outputs=6\n",
      "\t\tGC time elapsed (ms)=236\n",
      "\t\tCPU time spent (ms)=3950\n",
      "\t\tPhysical memory (bytes) snapshot=1246224384\n",
      "\t\tVirtual memory (bytes) snapshot=6918606848\n",
      "\t\tTotal committed heap usage (bytes)=1525153792\n",
      "\tShuffle Errors\n",
      "\t\tBAD_ID=0\n",
      "\t\tCONNECTION=0\n",
      "\t\tIO_ERROR=0\n",
      "\t\tWRONG_LENGTH=0\n",
      "\t\tWRONG_MAP=0\n",
      "\t\tWRONG_REDUCE=0\n",
      "\tFile Input Format Counters \n",
      "\t\tBytes Read=161\n",
      "\tFile Output Format Counters \n",
      "\t\tBytes Written=390\n",
      "21/01/24 12:31:54 INFO streaming.StreamJob: Output directory: /user/root/HW2/chinese-output-nb-unsmoothed\n"
     ]
    }
   ],
   "source": [
    "!hdfs dfs -rm -r {HDFS_DIR}/chinese-output-nb-unsmoothed\n",
    "\n",
    "#   -reducer /bin/cat \\ train_reducer.py \\\n",
    "\n",
    "# part b - write your hadoop streaming job\n",
    "!hadoop jar {JAR_FILE} \\\n",
    "  -D stream.num.map.output.key.fields=3 \\\n",
    "  -D stream.map.output.field.separator=\"\\t\" \\\n",
    "  -D mapreduce.job.output.key.comparator.class=org.apache.hadoop.mapred.lib.KeyFieldBasedComparator \\\n",
    "  -D mapreduce.partition.keycomparator.options=\"-k2,2\" \\\n",
    "  -D mapreduce.partition.keypartitioner.options=\"-k1,1\" \\\n",
    "  -files NaiveBayes/train_reducer.py,NaiveBayes/train_mapper.py \\\n",
    "  -mapper train_mapper.py \\\n",
    "  -reducer train_reducer.py \\\n",
    "  -input {HDFS_DIR}/chineseTrain.txt \\\n",
    "  -output {HDFS_DIR}/chinese-output-nb-unsmoothed \\\n",
    "  -cmdenv PATH={PATH} \\\n",
    "  -numReduceTasks 3 \\\n",
    "  -partitioner org.apache.hadoop.mapred.lib.KeyFieldBasedPartitioner"
   ]
  },
  {
   "cell_type": "code",
   "execution_count": 293,
   "metadata": {},
   "outputs": [],
   "source": [
    "# part b - extract your results (i.e. model) to a local file\n",
    "!hdfs dfs -cat {HDFS_DIR}/chinese-output-nb-unsmoothed/part-000* > NaiveBayes/chineseResultsNbUnsmoothed.txt"
   ]
  },
  {
   "cell_type": "code",
   "execution_count": 294,
   "metadata": {},
   "outputs": [
    {
     "name": "stdout",
     "output_type": "stream",
     "text": [
      "japan        1.0,  0.0,  0.3333333333333333,  0.0\n",
      "macao        0.0,  1.0,  0.0,                 0.125\n",
      "ClassPriors  1.0,  3.0,  0.25,                0.75\n",
      "shanghai     0.0,  1.0,  0.0,                 0.125\n",
      "tokyo        1.0,  0.0,  0.3333333333333333,  0.0\n",
      "ClassPriors  1.0,  3.0,  0.25,                0.75\n",
      "beijing      0.0,  1.0,  0.0,                 0.125\n",
      "chinese      1.0,  5.0,  0.3333333333333333,  0.625\n",
      "ClassPriors  1.0,  3.0,  0.25,                0.75\n"
     ]
    }
   ],
   "source": [
    "# part b - print your model so that we can confirm that it matches expected results\n",
    "!cat NaiveBayes/chineseResultsNbUnsmoothed.txt | column -t"
   ]
  },
  {
   "cell_type": "code",
   "execution_count": 296,
   "metadata": {},
   "outputs": [
    {
     "name": "stdout",
     "output_type": "stream",
     "text": [
      "========== PARTITION1 ==========\n",
      "japan\t1.0, 0.0,                  0.3333333333333333, 0.0\n",
      "macao\t0.0, 1.0,      0.0, 0.125\n",
      "ClassPriors\t1.0, 3.0,      0.25, 0.75\n",
      "========== PARTITION2 ==========\n",
      "shanghai\t0.0, 1.0,                  0.0, 0.125\n",
      "tokyo\t1.0, 0.0,      0.3333333333333333, 0.0\n",
      "ClassPriors\t1.0, 3.0,      0.25, 0.75\n",
      "========== PARTITION3 ==========\n",
      "beijing\t0.0, 1.0,                  0.0, 0.125\n",
      "chinese\t1.0, 5.0,      0.3333333333333333, 0.625\n",
      "ClassPriors\t1.0, 3.0,      0.25, 0.75\n"
     ]
    }
   ],
   "source": [
    "### Added for reference... DELETE before submitting\n",
    "for p in range(3):\n",
    "    print('='*10,f'PARTITION{p+1}','='*10)\n",
    "    !hdfs dfs -cat {HDFS_DIR}/chinese-output-nb-unsmoothed/part-0000{p} | head -n 5"
   ]
  },
  {
   "cell_type": "code",
   "execution_count": null,
   "metadata": {},
   "outputs": [],
   "source": [
    "# Summary of Results - Delete later\n",
    "# One ClassPrior per Reduce job\n",
    "beijing      0.0,  1.0,  0.0,                 0.125\n",
    "chinese      1.0,  5.0,  0.3333333333333333,  0.625\n",
    "japan        1.0,  0.0,  0.3333333333333333,  0.0\n",
    "macao        0.0,  1.0,  0.0,                 0.125\n",
    "shanghai     0.0,  1.0,  0.0,                 0.125\n",
    "tokyo        1.0,  0.0,  0.3333333333333333,  0.0\n",
    "ClassPriors  1.0,  3.0,  0.25,                0.75\n",
    "\n",
    "# Ouput using '-reducer /bin/cat \\'\n",
    "B  !totalDocClassCount  0,2\n",
    "B  !totalDocClassCount  1,1\n",
    "B  !totalWordCount      3,2\n",
    "B  !totalWordCount      0,6\n",
    "B  japan                1,0\n",
    "B  macao                0,1\n",
    "C  !totalDocClassCount  1,1\n",
    "C  !totalDocClassCount  0,2\n",
    "C  !totalWordCount      0,6\n",
    "C  !totalWordCount      3,2\n",
    "C  shanghai             0,1\n",
    "C  tokyo                1,0\n",
    "A  !totalDocClassCount  1,1\n",
    "A  !totalDocClassCount  0,2\n",
    "A  !totalWordCount      0,6\n",
    "A  !totalWordCount      3,2\n",
    "A  beijing              0,1\n",
    "A  chinese              0,1\n",
    "A  chinese              0,1\n",
    "A  chinese              0,1\n",
    "A  chinese              0,1\n",
    "A  chinese              1,0\n",
    "A  chinese              0,1"
   ]
  },
  {
   "cell_type": "code",
   "execution_count": 295,
   "metadata": {},
   "outputs": [
    {
     "name": "stdout",
     "output_type": "stream",
     "text": [
      "D1\t1\t\tChinese Beijing Chinese\n",
      "D2\t1\t\tChinese Chinese Shanghai\n",
      "D3\t1\t\tChinese Macao\n",
      "D4\t0\t\tTokyo Japan Chinese\n"
     ]
    }
   ],
   "source": [
    "!cat NaiveBayes/chineseTrain.txt"
   ]
  },
  {
   "cell_type": "markdown",
   "metadata": {},
   "source": [
    "__`part e starts here`:__ MNB _with_ Smoothing (training on Chinese Example Corpus)."
   ]
  },
  {
   "cell_type": "code",
   "execution_count": 311,
   "metadata": {},
   "outputs": [
    {
     "name": "stdout",
     "output_type": "stream",
     "text": [
      "atest        0.0,  1.0,  0.0,                 0.125\n",
      "beijing      1.0,  2.0,  0.3333333333333333,  0.25\n",
      "btest        1.0,  0.0,  0.3333333333333333,  0.0\n",
      "chinese      2.0,  5.0,  0.6666666666666666,  0.625\n",
      "ClassPriors  1.0,  3.0,  0.25,                0.75\n",
      "!TotalTerms  4.0,  4.0,  1.0,                 1.0\n"
     ]
    }
   ],
   "source": [
    "# part e - write a unit test for your NEW reducer here\n",
    "!chmod a+x NaiveBayes/train_reducer_smooth.py\n",
    "!cat chineseTemp.txt | NaiveBayes/train_reducer_smooth.py | column -t"
   ]
  },
  {
   "cell_type": "code",
   "execution_count": 343,
   "metadata": {},
   "outputs": [
    {
     "name": "stdout",
     "output_type": "stream",
     "text": [
      "beijing      0.0,  1.0,  0.0,                 0.125\n",
      "chinese      1.0,  5.0,  0.3333333333333333,  0.625\n",
      "japan        1.0,  0.0,  0.3333333333333333,  0.0\n",
      "macao        0.0,  1.0,  0.0,                 0.125\n",
      "shanghai     0.0,  1.0,  0.0,                 0.125\n",
      "tokyo        1.0,  0.0,  0.3333333333333333,  0.0\n",
      "ClassPriors  1.0,  3.0,  0.25,                0.75\n",
      "!TotalTerms  6.0,  6.0,  3.0,                 8.0\n"
     ]
    }
   ],
   "source": [
    "# part e - write a systems test for your mapper + reducer together here\n",
    "!cat NaiveBayes/chineseTrain.txt | NaiveBayes/train_mapper.py | sort -k1,1 | NaiveBayes/train_reducer_smooth.py | column -t"
   ]
  },
  {
   "cell_type": "code",
   "execution_count": 344,
   "metadata": {},
   "outputs": [
    {
     "name": "stdout",
     "output_type": "stream",
     "text": [
      "Deleted /user/root/HW2/chinese-output-nb-smoothed\n"
     ]
    }
   ],
   "source": [
    "# part e - clear (and name) an output directory in HDFS for your SMOOTHED chinese NB model\n",
    "!hdfs dfs -rm -r {HDFS_DIR}/chinese-output-nb-smoothed"
   ]
  },
  {
   "cell_type": "code",
   "execution_count": 345,
   "metadata": {},
   "outputs": [
    {
     "name": "stdout",
     "output_type": "stream",
     "text": [
      "rm: `/user/root/HW2/chinese-output-nb-smoothed': No such file or directory\n",
      "packageJobJar: [] [/usr/lib/hadoop-mapreduce/hadoop-streaming-2.6.0-cdh5.16.2.jar] /tmp/streamjob48120625123920153.jar tmpDir=null\n",
      "21/01/24 15:52:46 INFO client.RMProxy: Connecting to ResourceManager at /0.0.0.0:8032\n",
      "21/01/24 15:52:46 INFO client.RMProxy: Connecting to ResourceManager at /0.0.0.0:8032\n",
      "21/01/24 15:52:46 INFO mapred.FileInputFormat: Total input paths to process : 1\n",
      "21/01/24 15:52:47 INFO mapreduce.JobSubmitter: number of splits:2\n",
      "21/01/24 15:52:47 INFO mapreduce.JobSubmitter: Submitting tokens for job: job_1611186257570_0053\n",
      "21/01/24 15:52:47 INFO impl.YarnClientImpl: Submitted application application_1611186257570_0053\n",
      "21/01/24 15:52:47 INFO mapreduce.Job: The url to track the job: http://docker.w261:8088/proxy/application_1611186257570_0053/\n",
      "21/01/24 15:52:47 INFO mapreduce.Job: Running job: job_1611186257570_0053\n",
      "21/01/24 15:52:53 INFO mapreduce.Job: Job job_1611186257570_0053 running in uber mode : false\n",
      "21/01/24 15:52:53 INFO mapreduce.Job:  map 0% reduce 0%\n",
      "21/01/24 15:52:58 INFO mapreduce.Job:  map 50% reduce 0%\n",
      "21/01/24 15:52:59 INFO mapreduce.Job:  map 100% reduce 0%\n",
      "21/01/24 15:53:04 INFO mapreduce.Job:  map 100% reduce 33%\n",
      "21/01/24 15:53:06 INFO mapreduce.Job:  map 100% reduce 67%\n",
      "21/01/24 15:53:07 INFO mapreduce.Job:  map 100% reduce 100%\n",
      "21/01/24 15:53:07 INFO mapreduce.Job: Job job_1611186257570_0053 completed successfully\n",
      "21/01/24 15:53:07 INFO mapreduce.Job: Counters: 50\n",
      "\tFile System Counters\n",
      "\t\tFILE: Number of bytes read=524\n",
      "\t\tFILE: Number of bytes written=754377\n",
      "\t\tFILE: Number of read operations=0\n",
      "\t\tFILE: Number of large read operations=0\n",
      "\t\tFILE: Number of write operations=0\n",
      "\t\tHDFS: Number of bytes read=389\n",
      "\t\tHDFS: Number of bytes written=498\n",
      "\t\tHDFS: Number of read operations=15\n",
      "\t\tHDFS: Number of large read operations=0\n",
      "\t\tHDFS: Number of write operations=6\n",
      "\tJob Counters \n",
      "\t\tKilled reduce tasks=1\n",
      "\t\tLaunched map tasks=2\n",
      "\t\tLaunched reduce tasks=3\n",
      "\t\tData-local map tasks=2\n",
      "\t\tTotal time spent by all maps in occupied slots (ms)=6366\n",
      "\t\tTotal time spent by all reduces in occupied slots (ms)=11264\n",
      "\t\tTotal time spent by all map tasks (ms)=6366\n",
      "\t\tTotal time spent by all reduce tasks (ms)=11264\n",
      "\t\tTotal vcore-milliseconds taken by all map tasks=6366\n",
      "\t\tTotal vcore-milliseconds taken by all reduce tasks=11264\n",
      "\t\tTotal megabyte-milliseconds taken by all map tasks=6518784\n",
      "\t\tTotal megabyte-milliseconds taken by all reduce tasks=11534336\n",
      "\tMap-Reduce Framework\n",
      "\t\tMap input records=4\n",
      "\t\tMap output records=23\n",
      "\t\tMap output bytes=460\n",
      "\t\tMap output materialized bytes=542\n",
      "\t\tInput split bytes=228\n",
      "\t\tCombine input records=0\n",
      "\t\tCombine output records=0\n",
      "\t\tReduce input groups=20\n",
      "\t\tReduce shuffle bytes=542\n",
      "\t\tReduce input records=23\n",
      "\t\tReduce output records=12\n",
      "\t\tSpilled Records=46\n",
      "\t\tShuffled Maps =6\n",
      "\t\tFailed Shuffles=0\n",
      "\t\tMerged Map outputs=6\n",
      "\t\tGC time elapsed (ms)=228\n",
      "\t\tCPU time spent (ms)=3900\n",
      "\t\tPhysical memory (bytes) snapshot=1244774400\n",
      "\t\tVirtual memory (bytes) snapshot=6871179264\n",
      "\t\tTotal committed heap usage (bytes)=1459093504\n",
      "\tShuffle Errors\n",
      "\t\tBAD_ID=0\n",
      "\t\tCONNECTION=0\n",
      "\t\tIO_ERROR=0\n",
      "\t\tWRONG_LENGTH=0\n",
      "\t\tWRONG_MAP=0\n",
      "\t\tWRONG_REDUCE=0\n",
      "\tFile Input Format Counters \n",
      "\t\tBytes Read=161\n",
      "\tFile Output Format Counters \n",
      "\t\tBytes Written=498\n",
      "21/01/24 15:53:07 INFO streaming.StreamJob: Output directory: /user/root/HW2/chinese-output-nb-smoothed\n"
     ]
    }
   ],
   "source": [
    "!hdfs dfs -rm -r {HDFS_DIR}/chinese-output-nb-smoothed\n",
    "\n",
    "# part e - write your hadoop streaming job\n",
    "!hadoop jar {JAR_FILE} \\\n",
    "  -D stream.num.map.output.key.fields=3 \\\n",
    "  -D stream.map.output.field.separator=\"\\t\" \\\n",
    "  -D mapreduce.job.output.key.comparator.class=org.apache.hadoop.mapred.lib.KeyFieldBasedComparator \\\n",
    "  -D mapreduce.partition.keycomparator.options=\"-k2,2\" \\\n",
    "  -D mapreduce.partition.keypartitioner.options=\"-k1,1\" \\\n",
    "  -files NaiveBayes/train_reducer_smooth.py,NaiveBayes/train_mapper.py \\\n",
    "  -mapper train_mapper.py \\\n",
    "  -reducer train_reducer_smooth.py \\\n",
    "  -input {HDFS_DIR}/chineseTrain.txt \\\n",
    "  -output {HDFS_DIR}/chinese-output-nb-smoothed \\\n",
    "  -cmdenv PATH={PATH} \\\n",
    "  -numReduceTasks 3 \\\n",
    "  -partitioner org.apache.hadoop.mapred.lib.KeyFieldBasedPartitioner"
   ]
  },
  {
   "cell_type": "code",
   "execution_count": 346,
   "metadata": {},
   "outputs": [],
   "source": [
    "# part e - extract your results (i.e. model) to a local file\n",
    "!hdfs dfs -cat {HDFS_DIR}/chinese-output-nb-smoothed/part-000* > NaiveBayes/chineseResultsNbSmoothed.txt"
   ]
  },
  {
   "cell_type": "code",
   "execution_count": 347,
   "metadata": {},
   "outputs": [
    {
     "name": "stdout",
     "output_type": "stream",
     "text": [
      "japan        1.0,  0.0,  0.3333333333333333,  0.0\n",
      "macao        0.0,  1.0,  0.0,                 0.125\n",
      "ClassPriors  1.0,  3.0,  0.25,                0.75\n",
      "!TotalTerms  2.0,  2.0,  1.0,                 1.0\n",
      "shanghai     0.0,  1.0,  0.0,                 0.125\n",
      "tokyo        1.0,  0.0,  0.3333333333333333,  0.0\n",
      "ClassPriors  1.0,  3.0,  0.25,                0.75\n",
      "!TotalTerms  2.0,  2.0,  1.0,                 1.0\n",
      "beijing      0.0,  1.0,  0.0,                 0.125\n",
      "chinese      1.0,  5.0,  0.3333333333333333,  0.625\n",
      "ClassPriors  1.0,  3.0,  0.25,                0.75\n",
      "!TotalTerms  2.0,  2.0,  1.0,                 6.0\n"
     ]
    }
   ],
   "source": [
    "# part e - print your model (above local file) so that we can confirm that it matches expected results\n",
    "!cat NaiveBayes/chineseResultsNbSmoothed.txt | column -t"
   ]
  },
  {
   "cell_type": "code",
   "execution_count": null,
   "metadata": {},
   "outputs": [],
   "source": [
    "# part e - post processing\n",
    "# Post Processing to get 'B' term for Smoothed Model"
   ]
  },
  {
   "cell_type": "code",
   "execution_count": 375,
   "metadata": {},
   "outputs": [
    {
     "name": "stdout",
     "output_type": "stream",
     "text": [
      "beijing      0.0,      1.0,       0.1111111111111111,  0.14285714285714285\n",
      "chinese      1.0,      5.0,       0.2222222222222222,  0.42857142857142855\n",
      "ClassPriors  1.0,3.0,  0.25,0.75\n",
      "japan        1.0,      0.0,       0.2222222222222222,  0.07142857142857142\n",
      "macao        0.0,      1.0,       0.1111111111111111,  0.14285714285714285\n",
      "shanghai     0.0,      1.0,       0.1111111111111111,  0.14285714285714285\n",
      "tokyo        1.0,      0.0,       0.2222222222222222,  0.07142857142857142\n"
     ]
    }
   ],
   "source": [
    "# Unit test new reducer for post processing\n",
    "!chmod a+x NaiveBayes/train_reducer_smooth_post.py\n",
    "!cat chineseTempSorted.txt | NaiveBayes/train_reducer_smooth_post.py | column -t"
   ]
  },
  {
   "cell_type": "code",
   "execution_count": null,
   "metadata": {},
   "outputs": [],
   "source": [
    "### For Reference only\n",
    "\n",
    "beijing\t0.0,1.0,0.111111111111,0.142857142857\n",
    "chinese\t1.0,5.0,0.222222222222,0.428571428571\n",
    "tokyo\t1.0,0.0,0.222222222222,0.0714285714286\n",
    "shanghai\t0.0,1.0,0.111111111111,0.142857142857\n",
    "ClassPriors\t1.0,3.0,0.25,0.75\n",
    "japan\t1.0,0.0,0.222222222222,0.0714285714286\n",
    "macao\t0.0,1.0,0.111111111111,0.142857142857"
   ]
  },
  {
   "cell_type": "code",
   "execution_count": null,
   "metadata": {},
   "outputs": [],
   "source": [
    "# part e - write a systems test for your mapper + reducer together here\n",
    "!cat NaiveBayes/chineseTrain.txt | NaiveBayes/train_mapper.py | sort -k1,1 | NaiveBayes/train_reducer_smooth.py | column -t"
   ]
  },
  {
   "cell_type": "markdown",
   "metadata": {},
   "source": [
    "# Question 9: Enron Ham/Spam NB Classifier & Results.\n",
    "\n",
    "Fantastic work. We're finally ready to perform Spam Classification on the Enron Corpus. In this question you'll run the analysis you've developed, report its performance.\n",
    "\n",
    "### Q9 Tasks:\n",
    "* __a) train/test split:__ Run the provided code to split our Enron file into a training set and testing set then load them into HDFS. [`NOTE:` _Make sure you re calculate the vocab size for just the training set!_]\n",
    "\n",
    "* __b) train 2 models:__ Write Hadoop Streaming jobs to train MNB Models on the training set with and without smoothing. Save your models to local files at __`NaiveBayes/Unsmoothed/NBmodel.txt`__ and __`NaiveBayes/Smoothed/NBmodel.txt`__. [`NOTE:` _This naming is important because we wrote our classification task so that it expects a file of that name... if this inelegance frustrates you there is an alternative that would involve a few adjustments to your code [read more about it here](http://www.tnoda.com/blog/2013-11-23)._] Finally run the checks that we provide to confirm that your results are correct.\n",
    "\n",
    "\n",
    "* __c) code:__ Recall that we designed our classification job with just a mapper. An efficient way to report the performance of our models would be to simply add a reducer phase to this job and compute precision and recall right there. Complete the code in __`NaiveBayes/evaluation_reducer.py`__ and then write Hadoop jobs to evaluate your two models on the test set. Report their performance side by side. [`NOTE:` if you need a refresher on precision, recall and F1-score [Wikipedia](https://en.wikipedia.org/wiki/F1_score) is a good resource.]\n",
    "\n",
    "\n",
    "* __d) short response:__ Compare the performance of your two models. What do you notice about the unsmoothed model's predictions? Can you guess why this is happening? Which evaluation measure do you think is most relevant in our use case? [`NOTE:` _Feel free to answer using your common sense but if you want more information on evaluating the classification task checkout_ [this blogpost](https://tryolabs.com/blog/2013/03/25/why-accuracy-alone-bad-measure-classification-tasks-and-what-we-can-do-about-it/\n",
    ") or [this paper](http://www.flinders.edu.au/science_engineering/fms/School-CSEM/publications/tech_reps-research_artfcts/TRRA_2007.pdf\n",
    ")]\n",
    "\n"
   ]
  },
  {
   "cell_type": "markdown",
   "metadata": {},
   "source": [
    "### Q9 Student Answers:\n",
    "> __d)__ Type your answer here!\n",
    "\n"
   ]
  },
  {
   "cell_type": "markdown",
   "metadata": {},
   "source": [
    "__Test/Train split__"
   ]
  },
  {
   "cell_type": "code",
   "execution_count": 234,
   "metadata": {},
   "outputs": [],
   "source": [
    "# part a - test/train split (RUN THIS CELL AS IS)\n",
    "!head -n 80 data/enronemail_1h.txt > data/enron_train.txt\n",
    "!tail -n 20 data/enronemail_1h.txt > data/enron_test.txt\n",
    "!hdfs dfs -copyFromLocal data/enron_train.txt {HDFS_DIR}\n",
    "!hdfs dfs -copyFromLocal data/enron_test.txt {HDFS_DIR}"
   ]
  },
  {
   "cell_type": "markdown",
   "metadata": {},
   "source": [
    "__Training__ (Enron MNB Model _without smoothing_ )"
   ]
  },
  {
   "cell_type": "code",
   "execution_count": null,
   "metadata": {},
   "outputs": [],
   "source": [
    "# part b -  Unsmoothed model (FILL IN THE MISSING CODE BELOW)\n",
    "\n",
    "# clear the output directory\n",
    "!hdfs dfs -rm -r {HDFS_DIR}/enron-model\n",
    "\n",
    "# hadoop command\n",
    "!hadoop jar {JAR_FILE} \\\n",
    "\n",
    "\n",
    "\n",
    "\n",
    "\n",
    "\n",
    "\n",
    "\n",
    "# save the model locally\n",
    "!mkdir NaiveBayes/Unsmoothed\n",
    "!hdfs dfs -cat {HDFS_DIR}/enron-model/part-000* > NaiveBayes/Unsmoothed/NBmodel.txt"
   ]
  },
  {
   "cell_type": "code",
   "execution_count": null,
   "metadata": {},
   "outputs": [],
   "source": [
    "# part b - check your UNSMOOTHED model results (RUN THIS CELL AS IS)\n",
    "!grep assistance NaiveBayes/Unsmoothed/NBmodel.txt\n",
    "# EXPECTED OUTPUT: assistance\t2,4,0.000172547666293,0.000296823983378"
   ]
  },
  {
   "cell_type": "code",
   "execution_count": null,
   "metadata": {},
   "outputs": [],
   "source": [
    "# part b - check your UNSMOOTHED model results (RUN THIS CELL AS IS)\n",
    "!grep money NaiveBayes/Unsmoothed/NBmodel.txt\n",
    "# EXPECTED OUTPUT: money\t1,22,8.62738331464e-05,0.00163253190858"
   ]
  },
  {
   "cell_type": "markdown",
   "metadata": {},
   "source": [
    "__Training__ (Enron MNB Model _with Laplace +1 smoothing_ )"
   ]
  },
  {
   "cell_type": "code",
   "execution_count": null,
   "metadata": {},
   "outputs": [],
   "source": [
    "# part b -  Smoothed model (FILL IN THE MISSING CODE BELOW)\n",
    "\n",
    "# clear the output directory\n",
    "!hdfs dfs -rm -r {HDFS_DIR}/smooth-model\n",
    "\n",
    "# hadoop command\n",
    "!hadoop jar {JAR_FILE} \\\n",
    "\n",
    "\n",
    "\n",
    "\n",
    "\n",
    "\n",
    "\n",
    "# save the model locally\n",
    "!mkdir NaiveBayes/Unsmoothed\n",
    "!hdfs dfs -cat {HDFS_DIR}/smooth-model/part-000* > NaiveBayes/Smoothed/NBmodel.txt"
   ]
  },
  {
   "cell_type": "code",
   "execution_count": null,
   "metadata": {},
   "outputs": [],
   "source": [
    "# part b - check your SMOOTHED model results (RUN THIS CELL AS IS)\n",
    "!grep assistance NaiveBayes/Smoothed/NBmodel.txt\n",
    "# EXPECTED OUTPUT: assistance\t2,4,0.000185804533631,0.000277300205202"
   ]
  },
  {
   "cell_type": "code",
   "execution_count": null,
   "metadata": {},
   "outputs": [],
   "source": [
    "# part b - check your SMOOTHED model results (RUN THIS CELL AS IS)\n",
    "!grep money NaiveBayes/Smoothed/NBmodel.txt\n",
    "# EXPECTED OUTPUT: money\t1,22,0.000123869689087,0.00127558094393"
   ]
  },
  {
   "cell_type": "markdown",
   "metadata": {},
   "source": [
    "__Evaluation__"
   ]
  },
  {
   "cell_type": "code",
   "execution_count": null,
   "metadata": {},
   "outputs": [],
   "source": [
    "# part c - write your code in NaiveBayes/evaluation_reducer.py then RUN THIS\n",
    "!chmod a+x NaiveBayes/evaluation_reducer.py"
   ]
  },
  {
   "cell_type": "code",
   "execution_count": null,
   "metadata": {},
   "outputs": [],
   "source": [
    "# part c - unit test your evaluation job on the chinese model (RUN THIS CELL AS IS)\n",
    "!cat NaiveBayes/chineseTest.txt | NaiveBayes/classify_mapper.py \n",
    "!cat NaiveBayes/chineseTest.txt | NaiveBayes/classify_mapper.py | NaiveBayes/evaluation_reducer.py"
   ]
  },
  {
   "cell_type": "code",
   "execution_count": null,
   "metadata": {},
   "outputs": [],
   "source": [
    "# part c - Evaluate the UNSMOOTHED Model Here (FILL IN THE MISSING CODE)\n",
    "\n",
    "# clear output directory\n",
    "\n",
    "# hadoop job\n",
    "\n",
    "\n",
    "\n",
    "\n",
    "\n",
    "# retrieve results locally"
   ]
  },
  {
   "cell_type": "code",
   "execution_count": null,
   "metadata": {},
   "outputs": [],
   "source": [
    "# part c - Evaluate the SMOOTHED Model Here (FILL IN THE MISSING CODE)\n",
    "\n",
    "# clear output directory\n",
    "\n",
    "# hadoop job\n",
    "\n",
    "\n",
    "\n",
    "\n",
    "\n",
    "# retrieve results locally"
   ]
  },
  {
   "cell_type": "code",
   "execution_count": null,
   "metadata": {},
   "outputs": [],
   "source": [
    "# part c - display results \n",
    "# NOTE: feel free to modify the tail commands to match the format of your results file\n",
    "print('=========== UNSMOOTHED MODEL ============')\n",
    "!tail -n 9 NaiveBayes/Unsmoothed/results.txt\n",
    "print('=========== SMOOTHED MODEL ============')\n",
    "!tail -n 9 NaiveBayes/Smoothed/results.txt"
   ]
  },
  {
   "cell_type": "markdown",
   "metadata": {},
   "source": [
    "__`EXPECTED RESULTS:`__ \n",
    "<table>\n",
    "<th>Unsmoothed Model</th>\n",
    "<th>Smoothed Model</th>\n",
    "<tr>\n",
    "<td><pre>\n",
    "# Documents:\t20\n",
    "True Positives:\t1\n",
    "True Negatives:\t9\n",
    "False Positives:\t0\n",
    "False Negatives:\t10\n",
    "Accuracy\t0.5\n",
    "Precision\t1.0\n",
    "Recall\t0.0909\n",
    "F-Score\t0.1666\n",
    "</pre></td>\n",
    "<td><pre>\n",
    "# Documents:\t20\n",
    "True Positives:\t11\n",
    "True Negatives:\t6\n",
    "False Positives:\t3\n",
    "False Negatives:\t0\n",
    "Accuracy\t0.85\n",
    "Precision\t0.7857\n",
    "Recall\t1.0\n",
    "F-Score\t0.88\n",
    "</pre></td>\n",
    "</tr>\n",
    "</table>\n",
    "\n",
    "__`NOTE:`__ _Don't be too disappointed if these seem low to you. We've trained and tested on a very very small corpus... bigger datasets coming soon!_"
   ]
  },
  {
   "cell_type": "markdown",
   "metadata": {},
   "source": [
    "# Question 10: Custom Partitioning and Secondary Sort\n",
    "\n",
    "Now that we have our model, we can analyse the results and think about future improvements.\n",
    "\n",
    "### Q10 Tasks:\n",
    "\n",
    "* __a) code + short response:__ Let's look at the top ten words with the highest conditional probability in `Spam` and in `Ham`. We'll do this by writing a Hadoop job that sorts the model file (`NaiveBayes/Smoothed/NBmodel.py`). Normally we'd have to run two jobs -- one that sorts on $P(word|ham)$ and another that sorts on $P(word|spam)$. However if we slighly modify the data format in the model file then we can get the top words in each class with just one job. We've written a mapper that will do just this for you. Read through __`NaiveBayes/model_sort_mapper.py`__ and then briefly explain how this mapper will allow us to partition and sort our model file. Write a Hadoop job that uses our mapper and `/bin/cat` for a reducer to partition and sort. Print out the top 10 words in each class (where 'top' == highest conditional probability).[`HINT:` _this should remind you a lot of what we did in Question 6._]\n",
    "\n",
    "\n",
    "* __b) short response:__ What do you notice about the 'top words' we printed in `a`? How would increasing the smoothing parameter 'k' affect the probabilities for the top words that you identified for 'a'. How would they affect the probabilities of words that occur much more in one class than another? In summary, how does the smoothing parameter 'k' affect the bias and the variance of our model. [`NOTE:` _you do not need to code anything for this task, but if you are struggling with it you could try changing 'k' and see what happens to the test set. We don't recommend doing this exploration with the Enron data because it will be harder to see the impact with such a big vocabulary_]"
   ]
  },
  {
   "cell_type": "markdown",
   "metadata": {},
   "source": [
    "### Q10 Student Answers:\n",
    "> __a)__ Type your answer here!\n",
    "\n",
    "> __b)__ Type your answer here!"
   ]
  },
  {
   "cell_type": "code",
   "execution_count": null,
   "metadata": {},
   "outputs": [],
   "source": [
    "# part a - write your Hadoop job here (sort smoothed model on P(word|class))\n",
    "\n",
    "# clear output directory\n",
    "\n",
    "# hadoop job"
   ]
  },
  {
   "cell_type": "code",
   "execution_count": null,
   "metadata": {},
   "outputs": [],
   "source": [
    "# part b - print top words in each class\n"
   ]
  },
  {
   "cell_type": "raw",
   "metadata": {},
   "source": [
    "Expected results:\n",
    "============== PART-00000===============\n",
    "ect\t378,0,0.023473306082001735,5.546004104043037e-05\tham\t0.023473306082001735\t\n",
    "and\t258,277,0.01604112473677691,0.015417891409239643\tham\t0.01604112473677691\t\n",
    "hou\t203,0,0.0126347082868822,5.546004104043037e-05\tham\t0.0126347082868822\t\n",
    "in\t160,157,0.009971509971509971,0.008762686484387999\tham\t0.009971509971509971\t\n",
    "for\t148,153,0.00922829183698749,0.008540846320226277\tham\t0.00922829183698749\t\n",
    "on\t122,95,0.007617985878855444,0.005324163939881316\tham\t0.007617985878855444\t\n",
    "enron\t116,0,0.007246376811594203,5.546004104043037e-05\tham\t0.007246376811594203\t\n",
    "will\t113,69,0.007060572277963582,0.003882202872830126\tham\t0.007060572277963582\t\n",
    "i\t113,106,0.007060572277963582,0.00593422439132605\tham\t0.007060572277963582\t\n",
    "this\t99,90,0.00619348445435402,0.005046863734679163\tham\t0.00619348445435402\t\n",
    "cat: Unable to write to output stream.\n",
    "============== PART-00001===============\n",
    "the\t453,535,0.02811841942276725,0.029726581997670677\tspam\t0.029726581997670677\t\n",
    "to\t350,420,0.021739130434782608,0.023348677278021184\tspam\t0.023348677278021184\t\n",
    "a\t168,274,0.010466988727858293,0.015251511286118352\tspam\t0.015251511286118352\t\n",
    "your\t35,271,0.002229654403567447,0.01508513116299706\tspam\t0.01508513116299706\t\n",
    "of\t188,252,0.011705685618729096,0.014031390383228884\tspam\t0.014031390383228884\t\n",
    "you\t80,252,0.005016722408026756,0.014031390383228884\tspam\t0.014031390383228884\t\n",
    "it\t30,119,0.0019199801808497462,0.0066552049248516446\tspam\t0.0066552049248516446\t\n",
    "com\t74,108,0.004645113340765515,0.006045144473406911\tspam\t0.006045144473406911\t\n",
    "that\t71,100,0.004459308807134894,0.005601464145083467\tspam\t0.005601464145083467\t\n",
    "or\t41,88,0.002601263470828688,0.004935943652598303\tspam\t0.004935943652598303\t\n",
    "cat: Unable to write to output stream.\n"
   ]
  },
  {
   "cell_type": "markdown",
   "metadata": {},
   "source": [
    "### Congratulations, you have completed HW2! Please refer to the readme for submission instructions.\n",
    "\n",
    "If you would like to provide feedback regarding this homework, please use the survey at: https://docs.google.com/forms/d/e/1FAIpQLSce9feiQeSkdP43A0ZYui1tMGIBfLfzb0rmgToQeZD9bXXX8Q/viewform"
   ]
  },
  {
   "cell_type": "code",
   "execution_count": null,
   "metadata": {},
   "outputs": [],
   "source": []
  }
 ],
 "metadata": {
  "kernelspec": {
   "display_name": "Python 3",
   "language": "python",
   "name": "python3"
  },
  "language_info": {
   "codemirror_mode": {
    "name": "ipython",
    "version": 3
   },
   "file_extension": ".py",
   "mimetype": "text/x-python",
   "name": "python",
   "nbconvert_exporter": "python",
   "pygments_lexer": "ipython3",
   "version": "3.7.7"
  }
 },
 "nbformat": 4,
 "nbformat_minor": 4
}
